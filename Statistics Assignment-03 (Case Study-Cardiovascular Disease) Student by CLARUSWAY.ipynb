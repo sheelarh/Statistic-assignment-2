{
 "cells": [
  {
   "cell_type": "markdown",
   "id": "3a7cba89",
   "metadata": {
    "deletable": false,
    "editable": false
   },
   "source": [
    "<a href=\"https://ondiande.com/contact/\"><img align=\"center\" src=\"https://i.ibb.co/B43qn24/officially-licensed-logo.png\" alt=\"ONDIA Contact\" width=\"110\" height=\"200\" title=\"This notebook is licensed by ONDIA. Please contact the authorized persons about the conditions under which you can use or share.\"></a>"
   ]
  },
  {
   "cell_type": "markdown",
   "id": "2144db3d",
   "metadata": {},
   "source": [
    "<hr>\n",
    "\n",
    "<a href=\"https://lms.clarusway.com/mod/lesson/view.php?id=2463&pageid=4531&startlastseen=no\"><img align=\"center\" src=\"https://i.ibb.co/6Z5pQxD/lmss.png\" alt=\"Open in Clarusway LMS\" width=\"70\" height=\"200\" title=\"Open Clarusway Learning Management Sytem\"></a>\n",
    "\n",
    "<a href=\"https://github.com/clarusway/DS-DE-0322-Students/blob/main/3-%20Classes%26Labs/2-DAwPY/DAwPy_S01_(Numpy_Arrays).ipynb\"><img align=\"left\" src=\"https://i.ibb.co/n3HWyQX/github-logo.png\" alt=\"Open in Clarusway GitHub\" width=\"90\" height=\"150\" title=\"Open and Execute in Clarusway GitHub Repository\"></a>\n",
    "\n",
    "<a href=\"https://nbviewer.org/github/4dsolutions/clarusway_data_analysis/blob/main/DAwPy_S1_%28Numpy_Arrays%29/DAwPy_S1_%28Numpy_Arrays%29.ipynb\"><img align=\"right\" src=\"https://i.ibb.co/48wtV8c/nbviewer-badge.png\" alt=\"Open in nbviewer\" width=\"100\" height=\"100\" title=\"Open and Execute in nbviewer\"></a><br/>\n",
    "\n",
    "<hr>\n",
    "\n",
    "<p style=\"text-align: center;\"><img src=\"https://i.ibb.co/XS0bxSH/best-bootcamps.png\" width=\"300\" height=\"200\" class=\"img-fluid\" alt=\"Best Bootcamp Batches\"></p>\n",
    "\n",
    "<br>\n",
    "\n",
    "<p style=\"text-align: center;\"><img src=\"https://i.ibb.co/Rpz9L36/clarusway-logo-black.png\" width=\"500\" height=\"200\" class=\"img-fluid\" alt=\"CLRSWY_LOGO\"></p>\n",
    "\n",
    "\n",
    "<p style=\"background-color:#E51A59; font-family:newtimeroman; color:#FDFEFE; font-size:130%; text-align:center; border-radius:10px 10px;\">WAY TO REINVENT YOURSELF</p>\n",
    "\n",
    "<br>\n",
    "\n",
    "<img src=https://i.ibb.co/HgnTPh9/stats.png width=\"500\" height=\"200\">\n",
    "\n",
    "<img src=https://i.ibb.co/Z8XGZ1b/case-study.jpg width=\"250\" height=\"200\">\n",
    "\n",
    "\n",
    "<!-- ![Image_Assignment](https://i.ibb.co/Z8XGZ1b/case-study.jpg) -->\n",
    "\n",
    "## <p style=\"background-color:#FDFEFE; font-family:newtimeroman; color:#4d77cf; font-size:175%; text-align:center; border-radius:10px 10px;\">Cardiovascular Disease</p>"
   ]
  },
  {
   "cell_type": "markdown",
   "id": "u3DMViJN2znV",
   "metadata": {
    "id": "u3DMViJN2znV"
   },
   "source": [
    "## <p style=\"background-color:#58B8E4; font-family:newtimeroman; color:#FFF9ED; font-size:175%; text-align:center; border-radius:10px 10px;\">About Cardiovascular Disease Dataset & Analysis</p>\n",
    "\n",
    "In this study, a dataset on Cardiovascular Disease will be analysed. The analysis will cover the following concepts:\n",
    "  - true means,\n",
    "  - confidence intervals,\n",
    "  - one sample t test,\n",
    "  - independent samples t test,\n",
    "  - homogenity of variance check (Levene's test),\n",
    "  - One-way ANOVA,\n",
    "  - Chi-square test.\n",
    "\n",
    "### <u>Data description:</u> \n",
    "\n",
    "The dataset consists of 70000 records of patients, 11 features, and a target variable.\n",
    "\n",
    "``There are 3 types of input features:``\n",
    "\n",
    "  - **``Objective``**: factual information;\n",
    "  - **``Examination``**: results of medical examination;\n",
    "  - **``Subjective``**: information given by the patient.\n",
    "\n",
    "Features:\n",
    "\n",
    "  - **``Age``** | Objective Feature | age | int (days)\n",
    "  - **``Height``** | Objective Feature | height | int (cm) |\n",
    "  - **``Weight``** | Objective Feature | weight | float (kg) |\n",
    "  - **``Gender``** | Objective Feature | gender | categorical code |\n",
    "  - **``Systolic blood pressure``** | Examination Feature | ap_hi | int |\n",
    "  - **``Diastolic blood pressure``** | Examination Feature | ap_lo | int |\n",
    "  - **``Cholesterol``** | Examination Feature | cholesterol | 1: normal, 2: above normal, 3: well above normal |\n",
    "  - **``Glucose``** | Examination Feature | gluc | 1: normal, 2: above normal, 3: well above normal |\n",
    "  - **``Smoking``** | Subjective Feature | smoke | binary |\n",
    "  - **``Alcohol intake``** | Subjective Feature | alco | binary |\n",
    "  - **``Physical activity``** | Subjective Feature | active | binary |\n",
    "  - **``Presence or absence of cardiovascular disease``** | Target Variable | cardio | binary |\n",
    "\n",
    "All of the records in the dataset were collected at the moment of medical examination.\n",
    "\n",
    "**For more information about [Dataset Source & Discussions on it](https://www.kaggle.com/datasets/sulianova/cardiovascular-disease-dataset)**"
   ]
  },
  {
   "cell_type": "markdown",
   "id": "ce8088f5",
   "metadata": {
    "id": "ce8088f5"
   },
   "source": [
    "## <p style=\"background-color:#58B8E4; font-family:newtimeroman; color:#FFF9ED; font-size:175%; text-align:center; border-radius:10px 10px;\">Data Preparation</p>"
   ]
  },
  {
   "cell_type": "markdown",
   "id": "c5e829d7",
   "metadata": {
    "id": "c5e829d7"
   },
   "source": [
    " ### ⭐ <span style=\"color:#49519E\">1. Import pandas, scipy.stats, seaborn, and matplotlib.pyplot libraries:<span>"
   ]
  },
  {
   "cell_type": "code",
   "execution_count": 1,
   "id": "90360b45",
   "metadata": {},
   "outputs": [],
   "source": [
    "import pandas as pd\n",
    "import numpy as np\n",
    "import matplotlib.pyplot as plt\n",
    "import seaborn as sns\n",
    "from scipy import stats\n",
    "from scipy.stats import t"
   ]
  },
  {
   "cell_type": "markdown",
   "id": "2f34563e",
   "metadata": {},
   "source": [
    " ### ⭐ <span style=\"color:#49519E\">2. Read and assign the Dataset to ``df``:<span>"
   ]
  },
  {
   "cell_type": "code",
   "execution_count": 41,
   "id": "2cf4cb25",
   "metadata": {},
   "outputs": [
    {
     "data": {
      "text/html": [
       "<div>\n",
       "<style scoped>\n",
       "    .dataframe tbody tr th:only-of-type {\n",
       "        vertical-align: middle;\n",
       "    }\n",
       "\n",
       "    .dataframe tbody tr th {\n",
       "        vertical-align: top;\n",
       "    }\n",
       "\n",
       "    .dataframe thead th {\n",
       "        text-align: right;\n",
       "    }\n",
       "</style>\n",
       "<table border=\"1\" class=\"dataframe\">\n",
       "  <thead>\n",
       "    <tr style=\"text-align: right;\">\n",
       "      <th></th>\n",
       "      <th>age</th>\n",
       "      <th>gender</th>\n",
       "      <th>height</th>\n",
       "      <th>weight</th>\n",
       "      <th>ap_hi</th>\n",
       "      <th>ap_lo</th>\n",
       "      <th>cholesterol</th>\n",
       "      <th>gluc</th>\n",
       "      <th>smoke</th>\n",
       "      <th>alco</th>\n",
       "      <th>active</th>\n",
       "      <th>cardio</th>\n",
       "    </tr>\n",
       "    <tr>\n",
       "      <th>id</th>\n",
       "      <th></th>\n",
       "      <th></th>\n",
       "      <th></th>\n",
       "      <th></th>\n",
       "      <th></th>\n",
       "      <th></th>\n",
       "      <th></th>\n",
       "      <th></th>\n",
       "      <th></th>\n",
       "      <th></th>\n",
       "      <th></th>\n",
       "      <th></th>\n",
       "    </tr>\n",
       "  </thead>\n",
       "  <tbody>\n",
       "    <tr>\n",
       "      <th>0</th>\n",
       "      <td>18393</td>\n",
       "      <td>2</td>\n",
       "      <td>168</td>\n",
       "      <td>62.0</td>\n",
       "      <td>110</td>\n",
       "      <td>80</td>\n",
       "      <td>1</td>\n",
       "      <td>1</td>\n",
       "      <td>0</td>\n",
       "      <td>0</td>\n",
       "      <td>1</td>\n",
       "      <td>0</td>\n",
       "    </tr>\n",
       "    <tr>\n",
       "      <th>1</th>\n",
       "      <td>20228</td>\n",
       "      <td>1</td>\n",
       "      <td>156</td>\n",
       "      <td>85.0</td>\n",
       "      <td>140</td>\n",
       "      <td>90</td>\n",
       "      <td>3</td>\n",
       "      <td>1</td>\n",
       "      <td>0</td>\n",
       "      <td>0</td>\n",
       "      <td>1</td>\n",
       "      <td>1</td>\n",
       "    </tr>\n",
       "    <tr>\n",
       "      <th>2</th>\n",
       "      <td>18857</td>\n",
       "      <td>1</td>\n",
       "      <td>165</td>\n",
       "      <td>64.0</td>\n",
       "      <td>130</td>\n",
       "      <td>70</td>\n",
       "      <td>3</td>\n",
       "      <td>1</td>\n",
       "      <td>0</td>\n",
       "      <td>0</td>\n",
       "      <td>0</td>\n",
       "      <td>1</td>\n",
       "    </tr>\n",
       "    <tr>\n",
       "      <th>3</th>\n",
       "      <td>17623</td>\n",
       "      <td>2</td>\n",
       "      <td>169</td>\n",
       "      <td>82.0</td>\n",
       "      <td>150</td>\n",
       "      <td>100</td>\n",
       "      <td>1</td>\n",
       "      <td>1</td>\n",
       "      <td>0</td>\n",
       "      <td>0</td>\n",
       "      <td>1</td>\n",
       "      <td>1</td>\n",
       "    </tr>\n",
       "    <tr>\n",
       "      <th>4</th>\n",
       "      <td>17474</td>\n",
       "      <td>1</td>\n",
       "      <td>156</td>\n",
       "      <td>56.0</td>\n",
       "      <td>100</td>\n",
       "      <td>60</td>\n",
       "      <td>1</td>\n",
       "      <td>1</td>\n",
       "      <td>0</td>\n",
       "      <td>0</td>\n",
       "      <td>0</td>\n",
       "      <td>0</td>\n",
       "    </tr>\n",
       "    <tr>\n",
       "      <th>...</th>\n",
       "      <td>...</td>\n",
       "      <td>...</td>\n",
       "      <td>...</td>\n",
       "      <td>...</td>\n",
       "      <td>...</td>\n",
       "      <td>...</td>\n",
       "      <td>...</td>\n",
       "      <td>...</td>\n",
       "      <td>...</td>\n",
       "      <td>...</td>\n",
       "      <td>...</td>\n",
       "      <td>...</td>\n",
       "    </tr>\n",
       "    <tr>\n",
       "      <th>99993</th>\n",
       "      <td>19240</td>\n",
       "      <td>2</td>\n",
       "      <td>168</td>\n",
       "      <td>76.0</td>\n",
       "      <td>120</td>\n",
       "      <td>80</td>\n",
       "      <td>1</td>\n",
       "      <td>1</td>\n",
       "      <td>1</td>\n",
       "      <td>0</td>\n",
       "      <td>1</td>\n",
       "      <td>0</td>\n",
       "    </tr>\n",
       "    <tr>\n",
       "      <th>99995</th>\n",
       "      <td>22601</td>\n",
       "      <td>1</td>\n",
       "      <td>158</td>\n",
       "      <td>126.0</td>\n",
       "      <td>140</td>\n",
       "      <td>90</td>\n",
       "      <td>2</td>\n",
       "      <td>2</td>\n",
       "      <td>0</td>\n",
       "      <td>0</td>\n",
       "      <td>1</td>\n",
       "      <td>1</td>\n",
       "    </tr>\n",
       "    <tr>\n",
       "      <th>99996</th>\n",
       "      <td>19066</td>\n",
       "      <td>2</td>\n",
       "      <td>183</td>\n",
       "      <td>105.0</td>\n",
       "      <td>180</td>\n",
       "      <td>90</td>\n",
       "      <td>3</td>\n",
       "      <td>1</td>\n",
       "      <td>0</td>\n",
       "      <td>1</td>\n",
       "      <td>0</td>\n",
       "      <td>1</td>\n",
       "    </tr>\n",
       "    <tr>\n",
       "      <th>99998</th>\n",
       "      <td>22431</td>\n",
       "      <td>1</td>\n",
       "      <td>163</td>\n",
       "      <td>72.0</td>\n",
       "      <td>135</td>\n",
       "      <td>80</td>\n",
       "      <td>1</td>\n",
       "      <td>2</td>\n",
       "      <td>0</td>\n",
       "      <td>0</td>\n",
       "      <td>0</td>\n",
       "      <td>1</td>\n",
       "    </tr>\n",
       "    <tr>\n",
       "      <th>99999</th>\n",
       "      <td>20540</td>\n",
       "      <td>1</td>\n",
       "      <td>170</td>\n",
       "      <td>72.0</td>\n",
       "      <td>120</td>\n",
       "      <td>80</td>\n",
       "      <td>2</td>\n",
       "      <td>1</td>\n",
       "      <td>0</td>\n",
       "      <td>0</td>\n",
       "      <td>1</td>\n",
       "      <td>0</td>\n",
       "    </tr>\n",
       "  </tbody>\n",
       "</table>\n",
       "<p>70000 rows × 12 columns</p>\n",
       "</div>"
      ],
      "text/plain": [
       "         age  gender  height  weight  ap_hi  ap_lo  cholesterol  gluc  smoke  \\\n",
       "id                                                                             \n",
       "0      18393       2     168    62.0    110     80            1     1      0   \n",
       "1      20228       1     156    85.0    140     90            3     1      0   \n",
       "2      18857       1     165    64.0    130     70            3     1      0   \n",
       "3      17623       2     169    82.0    150    100            1     1      0   \n",
       "4      17474       1     156    56.0    100     60            1     1      0   \n",
       "...      ...     ...     ...     ...    ...    ...          ...   ...    ...   \n",
       "99993  19240       2     168    76.0    120     80            1     1      1   \n",
       "99995  22601       1     158   126.0    140     90            2     2      0   \n",
       "99996  19066       2     183   105.0    180     90            3     1      0   \n",
       "99998  22431       1     163    72.0    135     80            1     2      0   \n",
       "99999  20540       1     170    72.0    120     80            2     1      0   \n",
       "\n",
       "       alco  active  cardio  \n",
       "id                           \n",
       "0         0       1       0  \n",
       "1         0       1       1  \n",
       "2         0       0       1  \n",
       "3         0       1       1  \n",
       "4         0       0       0  \n",
       "...     ...     ...     ...  \n",
       "99993     0       1       0  \n",
       "99995     0       1       1  \n",
       "99996     1       0       1  \n",
       "99998     0       0       1  \n",
       "99999     0       1       0  \n",
       "\n",
       "[70000 rows x 12 columns]"
      ]
     },
     "execution_count": 41,
     "metadata": {},
     "output_type": "execute_result"
    }
   ],
   "source": [
    "df = pd.read_csv(('cardio.csv'),  sep=\";\", na_values=\".\", index_col=0)\n",
    "df"
   ]
  },
  {
   "cell_type": "markdown",
   "id": "bd8c4f4e",
   "metadata": {},
   "source": [
    " ### ⭐ <span style=\"color:#49519E\">3. Pick up 500 observations randomly and continue your analysis with this selected observations:<span>\n",
    "    \n",
    "**🚀 HINT: Use ``42`` as random_state.**"
   ]
  },
  {
   "cell_type": "code",
   "execution_count": 54,
   "id": "e266ea6d",
   "metadata": {},
   "outputs": [
    {
     "data": {
      "text/html": [
       "<div>\n",
       "<style scoped>\n",
       "    .dataframe tbody tr th:only-of-type {\n",
       "        vertical-align: middle;\n",
       "    }\n",
       "\n",
       "    .dataframe tbody tr th {\n",
       "        vertical-align: top;\n",
       "    }\n",
       "\n",
       "    .dataframe thead th {\n",
       "        text-align: right;\n",
       "    }\n",
       "</style>\n",
       "<table border=\"1\" class=\"dataframe\">\n",
       "  <thead>\n",
       "    <tr style=\"text-align: right;\">\n",
       "      <th></th>\n",
       "      <th>age</th>\n",
       "      <th>gender</th>\n",
       "      <th>height</th>\n",
       "      <th>weight</th>\n",
       "      <th>ap_hi</th>\n",
       "      <th>ap_lo</th>\n",
       "      <th>cholesterol</th>\n",
       "      <th>gluc</th>\n",
       "      <th>smoke</th>\n",
       "      <th>alco</th>\n",
       "      <th>active</th>\n",
       "      <th>cardio</th>\n",
       "    </tr>\n",
       "    <tr>\n",
       "      <th>id</th>\n",
       "      <th></th>\n",
       "      <th></th>\n",
       "      <th></th>\n",
       "      <th></th>\n",
       "      <th></th>\n",
       "      <th></th>\n",
       "      <th></th>\n",
       "      <th></th>\n",
       "      <th></th>\n",
       "      <th></th>\n",
       "      <th></th>\n",
       "      <th></th>\n",
       "    </tr>\n",
       "  </thead>\n",
       "  <tbody>\n",
       "    <tr>\n",
       "      <th>66728</th>\n",
       "      <td>21770</td>\n",
       "      <td>1</td>\n",
       "      <td>156</td>\n",
       "      <td>64.0</td>\n",
       "      <td>140</td>\n",
       "      <td>80</td>\n",
       "      <td>2</td>\n",
       "      <td>1</td>\n",
       "      <td>0</td>\n",
       "      <td>0</td>\n",
       "      <td>1</td>\n",
       "      <td>1</td>\n",
       "    </tr>\n",
       "    <tr>\n",
       "      <th>69098</th>\n",
       "      <td>21876</td>\n",
       "      <td>1</td>\n",
       "      <td>170</td>\n",
       "      <td>85.0</td>\n",
       "      <td>160</td>\n",
       "      <td>90</td>\n",
       "      <td>1</td>\n",
       "      <td>1</td>\n",
       "      <td>0</td>\n",
       "      <td>0</td>\n",
       "      <td>1</td>\n",
       "      <td>1</td>\n",
       "    </tr>\n",
       "    <tr>\n",
       "      <th>59185</th>\n",
       "      <td>23270</td>\n",
       "      <td>1</td>\n",
       "      <td>151</td>\n",
       "      <td>90.0</td>\n",
       "      <td>130</td>\n",
       "      <td>80</td>\n",
       "      <td>1</td>\n",
       "      <td>1</td>\n",
       "      <td>0</td>\n",
       "      <td>0</td>\n",
       "      <td>1</td>\n",
       "      <td>1</td>\n",
       "    </tr>\n",
       "    <tr>\n",
       "      <th>49288</th>\n",
       "      <td>19741</td>\n",
       "      <td>1</td>\n",
       "      <td>159</td>\n",
       "      <td>97.0</td>\n",
       "      <td>120</td>\n",
       "      <td>80</td>\n",
       "      <td>1</td>\n",
       "      <td>1</td>\n",
       "      <td>0</td>\n",
       "      <td>0</td>\n",
       "      <td>1</td>\n",
       "      <td>1</td>\n",
       "    </tr>\n",
       "    <tr>\n",
       "      <th>62481</th>\n",
       "      <td>18395</td>\n",
       "      <td>1</td>\n",
       "      <td>164</td>\n",
       "      <td>68.0</td>\n",
       "      <td>120</td>\n",
       "      <td>80</td>\n",
       "      <td>1</td>\n",
       "      <td>1</td>\n",
       "      <td>0</td>\n",
       "      <td>0</td>\n",
       "      <td>1</td>\n",
       "      <td>0</td>\n",
       "    </tr>\n",
       "    <tr>\n",
       "      <th>...</th>\n",
       "      <td>...</td>\n",
       "      <td>...</td>\n",
       "      <td>...</td>\n",
       "      <td>...</td>\n",
       "      <td>...</td>\n",
       "      <td>...</td>\n",
       "      <td>...</td>\n",
       "      <td>...</td>\n",
       "      <td>...</td>\n",
       "      <td>...</td>\n",
       "      <td>...</td>\n",
       "      <td>...</td>\n",
       "    </tr>\n",
       "    <tr>\n",
       "      <th>59009</th>\n",
       "      <td>16692</td>\n",
       "      <td>2</td>\n",
       "      <td>161</td>\n",
       "      <td>64.0</td>\n",
       "      <td>140</td>\n",
       "      <td>80</td>\n",
       "      <td>1</td>\n",
       "      <td>1</td>\n",
       "      <td>0</td>\n",
       "      <td>0</td>\n",
       "      <td>0</td>\n",
       "      <td>1</td>\n",
       "    </tr>\n",
       "    <tr>\n",
       "      <th>67488</th>\n",
       "      <td>19504</td>\n",
       "      <td>1</td>\n",
       "      <td>151</td>\n",
       "      <td>73.0</td>\n",
       "      <td>90</td>\n",
       "      <td>60</td>\n",
       "      <td>1</td>\n",
       "      <td>1</td>\n",
       "      <td>0</td>\n",
       "      <td>0</td>\n",
       "      <td>1</td>\n",
       "      <td>1</td>\n",
       "    </tr>\n",
       "    <tr>\n",
       "      <th>19693</th>\n",
       "      <td>14663</td>\n",
       "      <td>2</td>\n",
       "      <td>165</td>\n",
       "      <td>69.0</td>\n",
       "      <td>120</td>\n",
       "      <td>80</td>\n",
       "      <td>1</td>\n",
       "      <td>1</td>\n",
       "      <td>1</td>\n",
       "      <td>0</td>\n",
       "      <td>1</td>\n",
       "      <td>0</td>\n",
       "    </tr>\n",
       "    <tr>\n",
       "      <th>21476</th>\n",
       "      <td>22715</td>\n",
       "      <td>1</td>\n",
       "      <td>154</td>\n",
       "      <td>75.0</td>\n",
       "      <td>120</td>\n",
       "      <td>80</td>\n",
       "      <td>1</td>\n",
       "      <td>1</td>\n",
       "      <td>0</td>\n",
       "      <td>0</td>\n",
       "      <td>1</td>\n",
       "      <td>1</td>\n",
       "    </tr>\n",
       "    <tr>\n",
       "      <th>60247</th>\n",
       "      <td>14522</td>\n",
       "      <td>2</td>\n",
       "      <td>170</td>\n",
       "      <td>74.0</td>\n",
       "      <td>120</td>\n",
       "      <td>80</td>\n",
       "      <td>1</td>\n",
       "      <td>1</td>\n",
       "      <td>0</td>\n",
       "      <td>0</td>\n",
       "      <td>0</td>\n",
       "      <td>0</td>\n",
       "    </tr>\n",
       "  </tbody>\n",
       "</table>\n",
       "<p>500 rows × 12 columns</p>\n",
       "</div>"
      ],
      "text/plain": [
       "         age  gender  height  weight  ap_hi  ap_lo  cholesterol  gluc  smoke  \\\n",
       "id                                                                             \n",
       "66728  21770       1     156    64.0    140     80            2     1      0   \n",
       "69098  21876       1     170    85.0    160     90            1     1      0   \n",
       "59185  23270       1     151    90.0    130     80            1     1      0   \n",
       "49288  19741       1     159    97.0    120     80            1     1      0   \n",
       "62481  18395       1     164    68.0    120     80            1     1      0   \n",
       "...      ...     ...     ...     ...    ...    ...          ...   ...    ...   \n",
       "59009  16692       2     161    64.0    140     80            1     1      0   \n",
       "67488  19504       1     151    73.0     90     60            1     1      0   \n",
       "19693  14663       2     165    69.0    120     80            1     1      1   \n",
       "21476  22715       1     154    75.0    120     80            1     1      0   \n",
       "60247  14522       2     170    74.0    120     80            1     1      0   \n",
       "\n",
       "       alco  active  cardio  \n",
       "id                           \n",
       "66728     0       1       1  \n",
       "69098     0       1       1  \n",
       "59185     0       1       1  \n",
       "49288     0       1       1  \n",
       "62481     0       1       0  \n",
       "...     ...     ...     ...  \n",
       "59009     0       0       1  \n",
       "67488     0       1       1  \n",
       "19693     0       1       0  \n",
       "21476     0       1       1  \n",
       "60247     0       0       0  \n",
       "\n",
       "[500 rows x 12 columns]"
      ]
     },
     "execution_count": 54,
     "metadata": {},
     "output_type": "execute_result"
    }
   ],
   "source": [
    "import random\n",
    "random.seed(42)\n",
    "random_sample = df.sample(n=500, random_state=42)\n",
    "\n",
    "random_sample"
   ]
  },
  {
   "cell_type": "code",
   "execution_count": null,
   "id": "ed7906aa",
   "metadata": {},
   "outputs": [],
   "source": []
  },
  {
   "cell_type": "markdown",
   "id": "218ddde8",
   "metadata": {},
   "source": [
    "### ⭐ <span style=\"color:#49519E\">4. Explore the Dataset:<span>\n",
    "    \n",
    "**🚀 HINT: Use te following metods or more if needed.**\n",
    "    \n",
    "``df.head()``\n",
    "``df.info()``\n",
    "``df.shape``\n",
    "``df.describe()``"
   ]
  },
  {
   "cell_type": "code",
   "execution_count": 56,
   "id": "902eee76",
   "metadata": {},
   "outputs": [
    {
     "data": {
      "text/html": [
       "<div>\n",
       "<style scoped>\n",
       "    .dataframe tbody tr th:only-of-type {\n",
       "        vertical-align: middle;\n",
       "    }\n",
       "\n",
       "    .dataframe tbody tr th {\n",
       "        vertical-align: top;\n",
       "    }\n",
       "\n",
       "    .dataframe thead th {\n",
       "        text-align: right;\n",
       "    }\n",
       "</style>\n",
       "<table border=\"1\" class=\"dataframe\">\n",
       "  <thead>\n",
       "    <tr style=\"text-align: right;\">\n",
       "      <th></th>\n",
       "      <th>age</th>\n",
       "      <th>gender</th>\n",
       "      <th>height</th>\n",
       "      <th>weight</th>\n",
       "      <th>ap_hi</th>\n",
       "      <th>ap_lo</th>\n",
       "      <th>cholesterol</th>\n",
       "      <th>gluc</th>\n",
       "      <th>smoke</th>\n",
       "      <th>alco</th>\n",
       "      <th>active</th>\n",
       "      <th>cardio</th>\n",
       "    </tr>\n",
       "    <tr>\n",
       "      <th>id</th>\n",
       "      <th></th>\n",
       "      <th></th>\n",
       "      <th></th>\n",
       "      <th></th>\n",
       "      <th></th>\n",
       "      <th></th>\n",
       "      <th></th>\n",
       "      <th></th>\n",
       "      <th></th>\n",
       "      <th></th>\n",
       "      <th></th>\n",
       "      <th></th>\n",
       "    </tr>\n",
       "  </thead>\n",
       "  <tbody>\n",
       "    <tr>\n",
       "      <th>66728</th>\n",
       "      <td>21770</td>\n",
       "      <td>1</td>\n",
       "      <td>156</td>\n",
       "      <td>64.0</td>\n",
       "      <td>140</td>\n",
       "      <td>80</td>\n",
       "      <td>2</td>\n",
       "      <td>1</td>\n",
       "      <td>0</td>\n",
       "      <td>0</td>\n",
       "      <td>1</td>\n",
       "      <td>1</td>\n",
       "    </tr>\n",
       "    <tr>\n",
       "      <th>69098</th>\n",
       "      <td>21876</td>\n",
       "      <td>1</td>\n",
       "      <td>170</td>\n",
       "      <td>85.0</td>\n",
       "      <td>160</td>\n",
       "      <td>90</td>\n",
       "      <td>1</td>\n",
       "      <td>1</td>\n",
       "      <td>0</td>\n",
       "      <td>0</td>\n",
       "      <td>1</td>\n",
       "      <td>1</td>\n",
       "    </tr>\n",
       "    <tr>\n",
       "      <th>59185</th>\n",
       "      <td>23270</td>\n",
       "      <td>1</td>\n",
       "      <td>151</td>\n",
       "      <td>90.0</td>\n",
       "      <td>130</td>\n",
       "      <td>80</td>\n",
       "      <td>1</td>\n",
       "      <td>1</td>\n",
       "      <td>0</td>\n",
       "      <td>0</td>\n",
       "      <td>1</td>\n",
       "      <td>1</td>\n",
       "    </tr>\n",
       "    <tr>\n",
       "      <th>49288</th>\n",
       "      <td>19741</td>\n",
       "      <td>1</td>\n",
       "      <td>159</td>\n",
       "      <td>97.0</td>\n",
       "      <td>120</td>\n",
       "      <td>80</td>\n",
       "      <td>1</td>\n",
       "      <td>1</td>\n",
       "      <td>0</td>\n",
       "      <td>0</td>\n",
       "      <td>1</td>\n",
       "      <td>1</td>\n",
       "    </tr>\n",
       "    <tr>\n",
       "      <th>62481</th>\n",
       "      <td>18395</td>\n",
       "      <td>1</td>\n",
       "      <td>164</td>\n",
       "      <td>68.0</td>\n",
       "      <td>120</td>\n",
       "      <td>80</td>\n",
       "      <td>1</td>\n",
       "      <td>1</td>\n",
       "      <td>0</td>\n",
       "      <td>0</td>\n",
       "      <td>1</td>\n",
       "      <td>0</td>\n",
       "    </tr>\n",
       "  </tbody>\n",
       "</table>\n",
       "</div>"
      ],
      "text/plain": [
       "         age  gender  height  weight  ap_hi  ap_lo  cholesterol  gluc  smoke  \\\n",
       "id                                                                             \n",
       "66728  21770       1     156    64.0    140     80            2     1      0   \n",
       "69098  21876       1     170    85.0    160     90            1     1      0   \n",
       "59185  23270       1     151    90.0    130     80            1     1      0   \n",
       "49288  19741       1     159    97.0    120     80            1     1      0   \n",
       "62481  18395       1     164    68.0    120     80            1     1      0   \n",
       "\n",
       "       alco  active  cardio  \n",
       "id                           \n",
       "66728     0       1       1  \n",
       "69098     0       1       1  \n",
       "59185     0       1       1  \n",
       "49288     0       1       1  \n",
       "62481     0       1       0  "
      ]
     },
     "execution_count": 56,
     "metadata": {},
     "output_type": "execute_result"
    }
   ],
   "source": [
    "random_sample.head()"
   ]
  },
  {
   "cell_type": "code",
   "execution_count": 57,
   "id": "61a202f8",
   "metadata": {},
   "outputs": [
    {
     "name": "stdout",
     "output_type": "stream",
     "text": [
      "<class 'pandas.core.frame.DataFrame'>\n",
      "Index: 500 entries, 66728 to 60247\n",
      "Data columns (total 12 columns):\n",
      " #   Column       Non-Null Count  Dtype  \n",
      "---  ------       --------------  -----  \n",
      " 0   age          500 non-null    int64  \n",
      " 1   gender       500 non-null    int64  \n",
      " 2   height       500 non-null    int64  \n",
      " 3   weight       500 non-null    float64\n",
      " 4   ap_hi        500 non-null    int64  \n",
      " 5   ap_lo        500 non-null    int64  \n",
      " 6   cholesterol  500 non-null    int64  \n",
      " 7   gluc         500 non-null    int64  \n",
      " 8   smoke        500 non-null    int64  \n",
      " 9   alco         500 non-null    int64  \n",
      " 10  active       500 non-null    int64  \n",
      " 11  cardio       500 non-null    int64  \n",
      "dtypes: float64(1), int64(11)\n",
      "memory usage: 50.8 KB\n"
     ]
    }
   ],
   "source": [
    "random_sample.info()"
   ]
  },
  {
   "cell_type": "code",
   "execution_count": 58,
   "id": "f2837859",
   "metadata": {},
   "outputs": [
    {
     "data": {
      "text/html": [
       "<div>\n",
       "<style scoped>\n",
       "    .dataframe tbody tr th:only-of-type {\n",
       "        vertical-align: middle;\n",
       "    }\n",
       "\n",
       "    .dataframe tbody tr th {\n",
       "        vertical-align: top;\n",
       "    }\n",
       "\n",
       "    .dataframe thead th {\n",
       "        text-align: right;\n",
       "    }\n",
       "</style>\n",
       "<table border=\"1\" class=\"dataframe\">\n",
       "  <thead>\n",
       "    <tr style=\"text-align: right;\">\n",
       "      <th></th>\n",
       "      <th>age</th>\n",
       "      <th>gender</th>\n",
       "      <th>height</th>\n",
       "      <th>weight</th>\n",
       "      <th>ap_hi</th>\n",
       "      <th>ap_lo</th>\n",
       "      <th>cholesterol</th>\n",
       "      <th>gluc</th>\n",
       "      <th>smoke</th>\n",
       "      <th>alco</th>\n",
       "      <th>active</th>\n",
       "      <th>cardio</th>\n",
       "    </tr>\n",
       "  </thead>\n",
       "  <tbody>\n",
       "    <tr>\n",
       "      <th>count</th>\n",
       "      <td>500.000000</td>\n",
       "      <td>500.000000</td>\n",
       "      <td>500.000000</td>\n",
       "      <td>500.000000</td>\n",
       "      <td>500.00000</td>\n",
       "      <td>500.000000</td>\n",
       "      <td>500.000000</td>\n",
       "      <td>500.000000</td>\n",
       "      <td>500.00000</td>\n",
       "      <td>500.000000</td>\n",
       "      <td>500.000000</td>\n",
       "      <td>500.000000</td>\n",
       "    </tr>\n",
       "    <tr>\n",
       "      <th>mean</th>\n",
       "      <td>19460.940000</td>\n",
       "      <td>1.368000</td>\n",
       "      <td>164.746000</td>\n",
       "      <td>74.093400</td>\n",
       "      <td>127.91200</td>\n",
       "      <td>98.908000</td>\n",
       "      <td>1.338000</td>\n",
       "      <td>1.192000</td>\n",
       "      <td>0.07800</td>\n",
       "      <td>0.046000</td>\n",
       "      <td>0.762000</td>\n",
       "      <td>0.492000</td>\n",
       "    </tr>\n",
       "    <tr>\n",
       "      <th>std</th>\n",
       "      <td>2444.264657</td>\n",
       "      <td>0.482744</td>\n",
       "      <td>8.017609</td>\n",
       "      <td>14.340822</td>\n",
       "      <td>40.82349</td>\n",
       "      <td>130.985839</td>\n",
       "      <td>0.651617</td>\n",
       "      <td>0.540111</td>\n",
       "      <td>0.26844</td>\n",
       "      <td>0.209695</td>\n",
       "      <td>0.426286</td>\n",
       "      <td>0.500437</td>\n",
       "    </tr>\n",
       "    <tr>\n",
       "      <th>min</th>\n",
       "      <td>14319.000000</td>\n",
       "      <td>1.000000</td>\n",
       "      <td>144.000000</td>\n",
       "      <td>43.000000</td>\n",
       "      <td>-120.00000</td>\n",
       "      <td>0.000000</td>\n",
       "      <td>1.000000</td>\n",
       "      <td>1.000000</td>\n",
       "      <td>0.00000</td>\n",
       "      <td>0.000000</td>\n",
       "      <td>0.000000</td>\n",
       "      <td>0.000000</td>\n",
       "    </tr>\n",
       "    <tr>\n",
       "      <th>25%</th>\n",
       "      <td>17804.000000</td>\n",
       "      <td>1.000000</td>\n",
       "      <td>159.000000</td>\n",
       "      <td>65.000000</td>\n",
       "      <td>120.00000</td>\n",
       "      <td>80.000000</td>\n",
       "      <td>1.000000</td>\n",
       "      <td>1.000000</td>\n",
       "      <td>0.00000</td>\n",
       "      <td>0.000000</td>\n",
       "      <td>1.000000</td>\n",
       "      <td>0.000000</td>\n",
       "    </tr>\n",
       "    <tr>\n",
       "      <th>50%</th>\n",
       "      <td>19669.000000</td>\n",
       "      <td>1.000000</td>\n",
       "      <td>165.000000</td>\n",
       "      <td>72.000000</td>\n",
       "      <td>120.00000</td>\n",
       "      <td>80.000000</td>\n",
       "      <td>1.000000</td>\n",
       "      <td>1.000000</td>\n",
       "      <td>0.00000</td>\n",
       "      <td>0.000000</td>\n",
       "      <td>1.000000</td>\n",
       "      <td>0.000000</td>\n",
       "    </tr>\n",
       "    <tr>\n",
       "      <th>75%</th>\n",
       "      <td>21326.250000</td>\n",
       "      <td>2.000000</td>\n",
       "      <td>170.000000</td>\n",
       "      <td>80.000000</td>\n",
       "      <td>140.00000</td>\n",
       "      <td>90.000000</td>\n",
       "      <td>1.000000</td>\n",
       "      <td>1.000000</td>\n",
       "      <td>0.00000</td>\n",
       "      <td>0.000000</td>\n",
       "      <td>1.000000</td>\n",
       "      <td>1.000000</td>\n",
       "    </tr>\n",
       "    <tr>\n",
       "      <th>max</th>\n",
       "      <td>23670.000000</td>\n",
       "      <td>2.000000</td>\n",
       "      <td>198.000000</td>\n",
       "      <td>160.000000</td>\n",
       "      <td>907.00000</td>\n",
       "      <td>1200.000000</td>\n",
       "      <td>3.000000</td>\n",
       "      <td>3.000000</td>\n",
       "      <td>1.00000</td>\n",
       "      <td>1.000000</td>\n",
       "      <td>1.000000</td>\n",
       "      <td>1.000000</td>\n",
       "    </tr>\n",
       "  </tbody>\n",
       "</table>\n",
       "</div>"
      ],
      "text/plain": [
       "                age      gender      height      weight      ap_hi  \\\n",
       "count    500.000000  500.000000  500.000000  500.000000  500.00000   \n",
       "mean   19460.940000    1.368000  164.746000   74.093400  127.91200   \n",
       "std     2444.264657    0.482744    8.017609   14.340822   40.82349   \n",
       "min    14319.000000    1.000000  144.000000   43.000000 -120.00000   \n",
       "25%    17804.000000    1.000000  159.000000   65.000000  120.00000   \n",
       "50%    19669.000000    1.000000  165.000000   72.000000  120.00000   \n",
       "75%    21326.250000    2.000000  170.000000   80.000000  140.00000   \n",
       "max    23670.000000    2.000000  198.000000  160.000000  907.00000   \n",
       "\n",
       "             ap_lo  cholesterol        gluc      smoke        alco  \\\n",
       "count   500.000000   500.000000  500.000000  500.00000  500.000000   \n",
       "mean     98.908000     1.338000    1.192000    0.07800    0.046000   \n",
       "std     130.985839     0.651617    0.540111    0.26844    0.209695   \n",
       "min       0.000000     1.000000    1.000000    0.00000    0.000000   \n",
       "25%      80.000000     1.000000    1.000000    0.00000    0.000000   \n",
       "50%      80.000000     1.000000    1.000000    0.00000    0.000000   \n",
       "75%      90.000000     1.000000    1.000000    0.00000    0.000000   \n",
       "max    1200.000000     3.000000    3.000000    1.00000    1.000000   \n",
       "\n",
       "           active      cardio  \n",
       "count  500.000000  500.000000  \n",
       "mean     0.762000    0.492000  \n",
       "std      0.426286    0.500437  \n",
       "min      0.000000    0.000000  \n",
       "25%      1.000000    0.000000  \n",
       "50%      1.000000    0.000000  \n",
       "75%      1.000000    1.000000  \n",
       "max      1.000000    1.000000  "
      ]
     },
     "execution_count": 58,
     "metadata": {},
     "output_type": "execute_result"
    }
   ],
   "source": [
    "random_sample.describe()"
   ]
  },
  {
   "cell_type": "code",
   "execution_count": 25,
   "id": "994fd5fe",
   "metadata": {},
   "outputs": [
    {
     "data": {
      "text/plain": [
       "(500, 13)"
      ]
     },
     "execution_count": 25,
     "metadata": {},
     "output_type": "execute_result"
    }
   ],
   "source": [
    "random_sample.shape"
   ]
  },
  {
   "cell_type": "markdown",
   "id": "95717d19",
   "metadata": {},
   "source": [
    "### ⭐ <span style=\"color:#49519E\">5. Check missing values; if so, handle them:<span>"
   ]
  },
  {
   "cell_type": "code",
   "execution_count": 59,
   "id": "c17ce3e8",
   "metadata": {},
   "outputs": [
    {
     "data": {
      "text/html": [
       "<div>\n",
       "<style scoped>\n",
       "    .dataframe tbody tr th:only-of-type {\n",
       "        vertical-align: middle;\n",
       "    }\n",
       "\n",
       "    .dataframe tbody tr th {\n",
       "        vertical-align: top;\n",
       "    }\n",
       "\n",
       "    .dataframe thead th {\n",
       "        text-align: right;\n",
       "    }\n",
       "</style>\n",
       "<table border=\"1\" class=\"dataframe\">\n",
       "  <thead>\n",
       "    <tr style=\"text-align: right;\">\n",
       "      <th></th>\n",
       "      <th>age</th>\n",
       "      <th>gender</th>\n",
       "      <th>height</th>\n",
       "      <th>weight</th>\n",
       "      <th>ap_hi</th>\n",
       "      <th>ap_lo</th>\n",
       "      <th>cholesterol</th>\n",
       "      <th>gluc</th>\n",
       "      <th>smoke</th>\n",
       "      <th>alco</th>\n",
       "      <th>active</th>\n",
       "      <th>cardio</th>\n",
       "    </tr>\n",
       "    <tr>\n",
       "      <th>id</th>\n",
       "      <th></th>\n",
       "      <th></th>\n",
       "      <th></th>\n",
       "      <th></th>\n",
       "      <th></th>\n",
       "      <th></th>\n",
       "      <th></th>\n",
       "      <th></th>\n",
       "      <th></th>\n",
       "      <th></th>\n",
       "      <th></th>\n",
       "      <th></th>\n",
       "    </tr>\n",
       "  </thead>\n",
       "  <tbody>\n",
       "    <tr>\n",
       "      <th>66728</th>\n",
       "      <td>21770</td>\n",
       "      <td>1</td>\n",
       "      <td>156</td>\n",
       "      <td>64.0</td>\n",
       "      <td>140</td>\n",
       "      <td>80</td>\n",
       "      <td>2</td>\n",
       "      <td>1</td>\n",
       "      <td>0</td>\n",
       "      <td>0</td>\n",
       "      <td>1</td>\n",
       "      <td>1</td>\n",
       "    </tr>\n",
       "    <tr>\n",
       "      <th>69098</th>\n",
       "      <td>21876</td>\n",
       "      <td>1</td>\n",
       "      <td>170</td>\n",
       "      <td>85.0</td>\n",
       "      <td>160</td>\n",
       "      <td>90</td>\n",
       "      <td>1</td>\n",
       "      <td>1</td>\n",
       "      <td>0</td>\n",
       "      <td>0</td>\n",
       "      <td>1</td>\n",
       "      <td>1</td>\n",
       "    </tr>\n",
       "    <tr>\n",
       "      <th>59185</th>\n",
       "      <td>23270</td>\n",
       "      <td>1</td>\n",
       "      <td>151</td>\n",
       "      <td>90.0</td>\n",
       "      <td>130</td>\n",
       "      <td>80</td>\n",
       "      <td>1</td>\n",
       "      <td>1</td>\n",
       "      <td>0</td>\n",
       "      <td>0</td>\n",
       "      <td>1</td>\n",
       "      <td>1</td>\n",
       "    </tr>\n",
       "    <tr>\n",
       "      <th>49288</th>\n",
       "      <td>19741</td>\n",
       "      <td>1</td>\n",
       "      <td>159</td>\n",
       "      <td>97.0</td>\n",
       "      <td>120</td>\n",
       "      <td>80</td>\n",
       "      <td>1</td>\n",
       "      <td>1</td>\n",
       "      <td>0</td>\n",
       "      <td>0</td>\n",
       "      <td>1</td>\n",
       "      <td>1</td>\n",
       "    </tr>\n",
       "    <tr>\n",
       "      <th>62481</th>\n",
       "      <td>18395</td>\n",
       "      <td>1</td>\n",
       "      <td>164</td>\n",
       "      <td>68.0</td>\n",
       "      <td>120</td>\n",
       "      <td>80</td>\n",
       "      <td>1</td>\n",
       "      <td>1</td>\n",
       "      <td>0</td>\n",
       "      <td>0</td>\n",
       "      <td>1</td>\n",
       "      <td>0</td>\n",
       "    </tr>\n",
       "    <tr>\n",
       "      <th>...</th>\n",
       "      <td>...</td>\n",
       "      <td>...</td>\n",
       "      <td>...</td>\n",
       "      <td>...</td>\n",
       "      <td>...</td>\n",
       "      <td>...</td>\n",
       "      <td>...</td>\n",
       "      <td>...</td>\n",
       "      <td>...</td>\n",
       "      <td>...</td>\n",
       "      <td>...</td>\n",
       "      <td>...</td>\n",
       "    </tr>\n",
       "    <tr>\n",
       "      <th>59009</th>\n",
       "      <td>16692</td>\n",
       "      <td>2</td>\n",
       "      <td>161</td>\n",
       "      <td>64.0</td>\n",
       "      <td>140</td>\n",
       "      <td>80</td>\n",
       "      <td>1</td>\n",
       "      <td>1</td>\n",
       "      <td>0</td>\n",
       "      <td>0</td>\n",
       "      <td>0</td>\n",
       "      <td>1</td>\n",
       "    </tr>\n",
       "    <tr>\n",
       "      <th>67488</th>\n",
       "      <td>19504</td>\n",
       "      <td>1</td>\n",
       "      <td>151</td>\n",
       "      <td>73.0</td>\n",
       "      <td>90</td>\n",
       "      <td>60</td>\n",
       "      <td>1</td>\n",
       "      <td>1</td>\n",
       "      <td>0</td>\n",
       "      <td>0</td>\n",
       "      <td>1</td>\n",
       "      <td>1</td>\n",
       "    </tr>\n",
       "    <tr>\n",
       "      <th>19693</th>\n",
       "      <td>14663</td>\n",
       "      <td>2</td>\n",
       "      <td>165</td>\n",
       "      <td>69.0</td>\n",
       "      <td>120</td>\n",
       "      <td>80</td>\n",
       "      <td>1</td>\n",
       "      <td>1</td>\n",
       "      <td>1</td>\n",
       "      <td>0</td>\n",
       "      <td>1</td>\n",
       "      <td>0</td>\n",
       "    </tr>\n",
       "    <tr>\n",
       "      <th>21476</th>\n",
       "      <td>22715</td>\n",
       "      <td>1</td>\n",
       "      <td>154</td>\n",
       "      <td>75.0</td>\n",
       "      <td>120</td>\n",
       "      <td>80</td>\n",
       "      <td>1</td>\n",
       "      <td>1</td>\n",
       "      <td>0</td>\n",
       "      <td>0</td>\n",
       "      <td>1</td>\n",
       "      <td>1</td>\n",
       "    </tr>\n",
       "    <tr>\n",
       "      <th>60247</th>\n",
       "      <td>14522</td>\n",
       "      <td>2</td>\n",
       "      <td>170</td>\n",
       "      <td>74.0</td>\n",
       "      <td>120</td>\n",
       "      <td>80</td>\n",
       "      <td>1</td>\n",
       "      <td>1</td>\n",
       "      <td>0</td>\n",
       "      <td>0</td>\n",
       "      <td>0</td>\n",
       "      <td>0</td>\n",
       "    </tr>\n",
       "  </tbody>\n",
       "</table>\n",
       "<p>500 rows × 12 columns</p>\n",
       "</div>"
      ],
      "text/plain": [
       "         age  gender  height  weight  ap_hi  ap_lo  cholesterol  gluc  smoke  \\\n",
       "id                                                                             \n",
       "66728  21770       1     156    64.0    140     80            2     1      0   \n",
       "69098  21876       1     170    85.0    160     90            1     1      0   \n",
       "59185  23270       1     151    90.0    130     80            1     1      0   \n",
       "49288  19741       1     159    97.0    120     80            1     1      0   \n",
       "62481  18395       1     164    68.0    120     80            1     1      0   \n",
       "...      ...     ...     ...     ...    ...    ...          ...   ...    ...   \n",
       "59009  16692       2     161    64.0    140     80            1     1      0   \n",
       "67488  19504       1     151    73.0     90     60            1     1      0   \n",
       "19693  14663       2     165    69.0    120     80            1     1      1   \n",
       "21476  22715       1     154    75.0    120     80            1     1      0   \n",
       "60247  14522       2     170    74.0    120     80            1     1      0   \n",
       "\n",
       "       alco  active  cardio  \n",
       "id                           \n",
       "66728     0       1       1  \n",
       "69098     0       1       1  \n",
       "59185     0       1       1  \n",
       "49288     0       1       1  \n",
       "62481     0       1       0  \n",
       "...     ...     ...     ...  \n",
       "59009     0       0       1  \n",
       "67488     0       1       1  \n",
       "19693     0       1       0  \n",
       "21476     0       1       1  \n",
       "60247     0       0       0  \n",
       "\n",
       "[500 rows x 12 columns]"
      ]
     },
     "execution_count": 59,
     "metadata": {},
     "output_type": "execute_result"
    }
   ],
   "source": [
    "random_sample.isnull().sum()\n",
    "random_sample.dropna()"
   ]
  },
  {
   "cell_type": "markdown",
   "id": "159ec9ef",
   "metadata": {
    "id": "159ec9ef"
   },
   "source": [
    "### ⭐ <span style=\"color:#49519E\">6. Check extreme values for each feature visually; if so, handle them:<span>\n",
    "    \n",
    "**🚀 HINTS:**     \n",
    "  - <u>Blood pressure could NOT be negative value! Even it rarely exceeds some point.</u>   \n",
    "  - <u>Be careful about the row index numbers since you picked up some observations randomly.</u>   \n",
    "  - <u>Be careful about the ``age`` feature since it's given as days.</u>"
   ]
  },
  {
   "cell_type": "code",
   "execution_count": null,
   "id": "b0487e4b",
   "metadata": {},
   "outputs": [
    {
     "data": {
      "text/plain": [
       "id\n",
       "0        0.138060\n",
       "1        0.151833\n",
       "2        0.141543\n",
       "3        0.132280\n",
       "4        0.131162\n",
       "           ...   \n",
       "99993    0.144417\n",
       "99995    0.169645\n",
       "99996    0.143111\n",
       "99998    0.168369\n",
       "99999    0.154175\n",
       "Name: age, Length: 70000, dtype: float64"
      ]
     },
     "execution_count": 94,
     "metadata": {},
     "output_type": "execute_result"
    }
   ],
   "source": [
    "\n",
    "random_sample['age'] = random_sample['age'] / 365\n",
    "df['age']\n"
   ]
  },
  {
   "cell_type": "code",
   "execution_count": null,
   "id": "fc52a0b4",
   "metadata": {},
   "outputs": [
    {
     "name": "stdout",
     "output_type": "stream",
     "text": [
      "id\n",
      "66728    140.0\n",
      "69098    160.0\n",
      "59185    130.0\n",
      "49288    120.0\n",
      "62481    120.0\n",
      "         ...  \n",
      "59009    140.0\n",
      "67488     90.0\n",
      "19693    120.0\n",
      "21476    120.0\n",
      "60247    120.0\n",
      "Name: ap_hi, Length: 500, dtype: float64\n",
      "id\n",
      "66728    80.0\n",
      "69098    90.0\n",
      "59185    80.0\n",
      "49288    80.0\n",
      "62481    80.0\n",
      "         ... \n",
      "59009    80.0\n",
      "67488    60.0\n",
      "19693    80.0\n",
      "21476    80.0\n",
      "60247    80.0\n",
      "Name: ap_lo, Length: 500, dtype: float64\n"
     ]
    }
   ],
   "source": [
    "random_sample['ap_hi'] = random_sample['ap_hi'].apply(lambda x: min(x, 200) if x > 0 else None)\n",
    "random_sample['ap_lo'] = random_sample['ap_lo'].apply(lambda x: min(x, 130) if x > 0 else None)\n",
    "print(random_sample['ap_hi'])\n",
    "print(random_sample['ap_lo'])"
   ]
  },
  {
   "cell_type": "code",
   "execution_count": 95,
   "id": "7dd6db16",
   "metadata": {},
   "outputs": [
    {
     "name": "stdout",
     "output_type": "stream",
     "text": [
      "id\n",
      "66728    156\n",
      "69098    170\n",
      "59185    151\n",
      "49288    159\n",
      "62481    164\n",
      "        ... \n",
      "59009    161\n",
      "67488    151\n",
      "19693    165\n",
      "21476    154\n",
      "60247    170\n",
      "Name: height, Length: 500, dtype: int64\n",
      "id\n",
      "66728    64.0\n",
      "69098    85.0\n",
      "59185    90.0\n",
      "49288    97.0\n",
      "62481    68.0\n",
      "         ... \n",
      "59009    64.0\n",
      "67488    73.0\n",
      "19693    69.0\n",
      "21476    75.0\n",
      "60247    74.0\n",
      "Name: weight, Length: 500, dtype: float64\n"
     ]
    }
   ],
   "source": [
    "random_sample['height'] = random_sample['height'].apply(lambda x: min(x, 200) if x > 0 else None)\n",
    "random_sample['weight'] = random_sample['weight'].apply(lambda x: min(x, 130) if x > 0 else None)\n",
    "print(random_sample['height'])\n",
    "print(random_sample['weight'])"
   ]
  },
  {
   "cell_type": "code",
   "execution_count": 107,
   "id": "7e635973",
   "metadata": {},
   "outputs": [
    {
     "data": {
      "image/png": "[encoded data removed]",
      "text/plain": [
       "<Figure size 1000x800 with 1 Axes>"
      ]
     },
     "metadata": {},
     "output_type": "display_data"
    }
   ],
   "source": [
    "plt.figure(figsize=(10, 8))\n",
    "ax = sns.boxplot(random_sample, showmeans=True)\n",
    "plt.title('Box plot of Numeric Features')\n",
    "plt.xticks(rotation=90)\n",
    "plt.show()"
   ]
  },
  {
   "cell_type": "markdown",
   "id": "d5d0ded4",
   "metadata": {},
   "source": [
    "**🤔 DOMAIN KNOWLEDGE ABOUT SYSTOLIC BLOOD PRESSURE:**\n",
    "\n",
    "Normal blood pressure for most adults is defined as a systolic pressure of less than 120 and a diastolic pressure of less than 80. [Source](https://www.nia.nih.gov/health/high-blood-pressure/high-blood-pressure-and-older-adults#:~:text=Normal%20blood%20pressure%20for%20most,pressure%20of%20less%20than%2080.)\n",
    "\n",
    "``Can systolic blood pressure be zero?`` When blood pressure drops to zero, it typically signifies a complete failure of the circulatory system, which is a life-threatening situation...If blood pressure were to reach zero, it would indicate that blood is no longer circulating effectively, which can lead to severe complications such as Hypovolemic Shock, Cardiogenic Shock, Septic Shock, Anaphylactic Shock and so on. [Source](https://www.quora.com/What-will-happen-when-the-blood-pressure-goes-zero) If your blood pressure drops too low, your body's vital organs do not get enough oxygen and nutrients. When this happens, low blood pressure can lead to shock , which requires immediate medical attention. Signs of shock include cold and sweaty skin, rapid breathing, a blue skin tone, or a weak and rapid pulse. [Source](https://www.nhlbi.nih.gov/health/low-blood-pressure#:~:text=If%20your%20blood%20pressure%20drops,a%20weak%20and%20rapid%20pulse.)\n",
    "\n",
    "``Is it possible to have a 300 systolic blood pressure?`` Very Rare but possible.Such BP is observed when you have a stroke...Anything above 210/120 is called a Hypertensive Crisis and needs hospitalization...[Source](https://www.quora.com/Is-it-possible-to-have-a-300-systolic-blood-pressure) The commonest pattern is that of hypertensive crisis, with profound general malaise, during which the systolic blood pressure could exceed 300 mmHg and is often >250 mmHg...[Source](https://www.ncbi.nlm.nih.gov/pmc/articles/PMC2780609/#:~:text=The%20commonest%20pattern%20is%20that,Another%20presentation%20is%20volatile%20hypertension.)"
   ]
  },
  {
   "cell_type": "markdown",
   "id": "6bb957a0",
   "metadata": {},
   "source": [
    "**Analyse extreme values on systolic pressure visually via Box plot:**"
   ]
  },
  {
   "cell_type": "code",
   "execution_count": 103,
   "id": "7225d6af",
   "metadata": {},
   "outputs": [
    {
     "data": {
      "image/png": "[encoded data removed]",
      "text/plain": [
       "<Figure size 800x600 with 1 Axes>"
      ]
     },
     "metadata": {},
     "output_type": "display_data"
    }
   ],
   "source": [
    "plt.figure(figsize=(8, 6))\n",
    "ax = sns.boxplot(data=random_sample['ap_hi'], showmeans=True)\n",
    "plt.title(\"Boxplot of Systolic Blood Pressure\")\n",
    "plt.xlabel(\"Systolic Pressure (mmHg)\")\n",
    "plt.show()"
   ]
  },
  {
   "cell_type": "markdown",
   "id": "8902cb1e",
   "metadata": {},
   "source": [
    "**Accordance with the Domain Knowledge obtained, handle unrealistic values for systolic blood pressure:**"
   ]
  },
  {
   "cell_type": "code",
   "execution_count": null,
   "id": "9b1ee931",
   "metadata": {},
   "outputs": [
    {
     "name": "stdout",
     "output_type": "stream",
     "text": [
      "            age  gender  height  weight  ap_hi  ap_lo  cholesterol  gluc  \\\n",
      "id                                                                         \n",
      "66728  0.049315       1     156    64.0  140.0   80.0            2     1   \n",
      "69098  0.049315       1     170    85.0  160.0   90.0            1     1   \n",
      "59185  0.049315       1     151    90.0  130.0   80.0            1     1   \n",
      "49288  0.049315       1     159    97.0  120.0   80.0            1     1   \n",
      "62481  0.049315       1     164    68.0  120.0   80.0            1     1   \n",
      "...         ...     ...     ...     ...    ...    ...          ...   ...   \n",
      "59009  0.049315       2     161    64.0  140.0   80.0            1     1   \n",
      "67488  0.049315       1     151    73.0   90.0   60.0            1     1   \n",
      "19693  0.049315       2     165    69.0  120.0   80.0            1     1   \n",
      "21476  0.049315       1     154    75.0  120.0   80.0            1     1   \n",
      "60247  0.049315       2     170    74.0  120.0   80.0            1     1   \n",
      "\n",
      "       smoke  alco  active  cardio  \n",
      "id                                  \n",
      "66728      0     0       1       1  \n",
      "69098      0     0       1       1  \n",
      "59185      0     0       1       1  \n",
      "49288      0     0       1       1  \n",
      "62481      0     0       1       0  \n",
      "...      ...   ...     ...     ...  \n",
      "59009      0     0       0       1  \n",
      "67488      0     0       1       1  \n",
      "19693      1     0       1       0  \n",
      "21476      0     0       1       1  \n",
      "60247      0     0       0       0  \n",
      "\n",
      "[498 rows x 12 columns]\n",
      "id\n",
      "66728    140.0\n",
      "69098    160.0\n",
      "59185    130.0\n",
      "49288    120.0\n",
      "62481    120.0\n",
      "         ...  \n",
      "59009    140.0\n",
      "67488     90.0\n",
      "19693    120.0\n",
      "21476    120.0\n",
      "60247    120.0\n",
      "Name: ap_hi, Length: 500, dtype: float64\n",
      "            age  gender  height  weight  ap_hi  ap_lo  cholesterol  gluc  \\\n",
      "id                                                                         \n",
      "0      0.138060       2     168    62.0    110     80            1     1   \n",
      "1      0.151833       1     156    85.0    140     90            3     1   \n",
      "2      0.141543       1     165    64.0    130     70            3     1   \n",
      "3      0.132280       2     169    82.0    150    100            1     1   \n",
      "4      0.131162       1     156    56.0    100     60            1     1   \n",
      "...         ...     ...     ...     ...    ...    ...          ...   ...   \n",
      "99993  0.144417       2     168    76.0    120     80            1     1   \n",
      "99995  0.169645       1     158   126.0    140     90            2     2   \n",
      "99996  0.143111       2     183   105.0    180     90            3     1   \n",
      "99998  0.168369       1     163    72.0    135     80            1     2   \n",
      "99999  0.154175       1     170    72.0    120     80            2     1   \n",
      "\n",
      "       smoke  alco  active  cardio  UnrealisticFlag  \n",
      "id                                                   \n",
      "0          0     0       1       0                0  \n",
      "1          0     0       1       1                0  \n",
      "2          0     0       0       1                0  \n",
      "3          0     0       1       1                0  \n",
      "4          0     0       0       0                0  \n",
      "...      ...   ...     ...     ...              ...  \n",
      "99993      1     0       1       0                0  \n",
      "99995      0     0       1       1                0  \n",
      "99996      0     1       0       1                0  \n",
      "99998      0     0       0       1                0  \n",
      "99999      0     0       1       0                0  \n",
      "\n",
      "[70000 rows x 13 columns]\n"
     ]
    }
   ],
   "source": [
    "df_cleaned = random_sample[(random_sample['ap_hi'] >= 50) & (random_sample['ap_hi'] <= 200)]\n",
    "\n",
    "\n",
    "df_imputed = random_sample['ap_hi'].apply(lambda x: 90 if x < 50 else (180 if x > 200 else x))\n",
    "\n",
    "\n",
    "df['UnrealisticFlag'] = df['ap_hi'].apply(lambda x: 1 if x < 50 or x > 200 else 0)\n",
    "\n",
    "\n",
    "print(df_cleaned)\n",
    "print(df_imputed)\n",
    "print(df)"
   ]
  },
  {
   "cell_type": "code",
   "execution_count": null,
   "id": "20bebc75",
   "metadata": {},
   "outputs": [],
   "source": []
  },
  {
   "cell_type": "markdown",
   "id": "d39538ec",
   "metadata": {},
   "source": [
    "**🤔 DOMAIN KNOWLEDGE ABOUT DIASTOLIC BLOOD PRESSURE:**\n",
    "\n",
    "...in September 2021, the highest recorded blood pressure in a person was reportedly 370/360 mmHg. This extreme blood pressure measurement was recorded in a man named Valentin Lupei in 1953. Valentin Lupei was a Romanian man who experienced a severe hypertensive crisis...[Source](https://pubmed.ncbi.nlm.nih.gov/7741618/#:~:text=The%20highest%20pressure%20recorded%20in,maximal%20lifting%20with%20slow%20exhalation.) [Source](https://www.quora.com/What-is-the-highest-blood-pressure-level-ever-measured-in-a-person)"
   ]
  },
  {
   "cell_type": "code",
   "execution_count": null,
   "id": "cfa90695",
   "metadata": {},
   "outputs": [],
   "source": []
  },
  {
   "cell_type": "code",
   "execution_count": null,
   "id": "c2c3c21f",
   "metadata": {},
   "outputs": [],
   "source": []
  },
  {
   "cell_type": "code",
   "execution_count": null,
   "id": "7af85ec4",
   "metadata": {},
   "outputs": [],
   "source": []
  },
  {
   "cell_type": "code",
   "execution_count": null,
   "id": "9ef1c22a",
   "metadata": {},
   "outputs": [],
   "source": []
  },
  {
   "cell_type": "markdown",
   "id": "0841e6a6",
   "metadata": {},
   "source": [
    "## <p style=\"background-color:#58B8E4; font-family:newtimeroman; color:#FFF9ED; font-size:175%; text-align:center; border-radius:10px 10px;\">TASKS</p>"
   ]
  },
  {
   "cell_type": "markdown",
   "id": "eba8d16f",
   "metadata": {},
   "source": [
    "#### <p style=\"background-color:#8CCED1; font-family:newtimeroman; color:#635EA7; font-size:175%; text-align:left; border-radius:10px 10px;\">Task-1. Is the Systolic blood pressure population mean 122mmhg?</p>"
   ]
  },
  {
   "cell_type": "markdown",
   "id": "604a6bbe",
   "metadata": {
    "id": "604a6bbe"
   },
   "source": [
    "**🤔 DOMAIN KNOWLEDGE: What is ABOUT Systolic Blood Pressure (ap_hi):**\n",
    "\n",
    "ap_hi => It's the Systolic blood pressure i.e. Pressure exerted when Blood is ejected in arteries.<br>\n",
    "Normal value : 122 mm Hg for all adults aged 18 and over."
   ]
  },
  {
   "cell_type": "markdown",
   "id": "bb6ca4cf",
   "metadata": {
    "id": "bb6ca4cf"
   },
   "source": [
    "### ⭐ <span style=\"color:#49519E\">What is the mean for Systolic blood pressure?<span>"
   ]
  },
  {
   "cell_type": "code",
   "execution_count": 330,
   "id": "c9f4d365",
   "metadata": {},
   "outputs": [
    {
     "data": {
      "text/plain": [
       "126.99198396793587"
      ]
     },
     "execution_count": 330,
     "metadata": {},
     "output_type": "execute_result"
    }
   ],
   "source": [
    "sample_mean = random_sample['ap_hi'].mean()\n",
    "sample_mean"
   ]
  },
  {
   "cell_type": "markdown",
   "id": "KX4IjRriZzAi",
   "metadata": {
    "id": "KX4IjRriZzAi"
   },
   "source": [
    "### ⭐ <span style=\"color:#49519E\">What is the std dev. for Systolic blood pressure?<span>"
   ]
  },
  {
   "cell_type": "code",
   "execution_count": 123,
   "id": "4d52409f",
   "metadata": {},
   "outputs": [
    {
     "data": {
      "text/plain": [
       "18.36422923876408"
      ]
     },
     "execution_count": 123,
     "metadata": {},
     "output_type": "execute_result"
    }
   ],
   "source": [
    "random_sample['ap_hi'].std()"
   ]
  },
  {
   "cell_type": "markdown",
   "id": "uUV8XmvbZ2aI",
   "metadata": {
    "id": "uUV8XmvbZ2aI"
   },
   "source": [
    "### ⭐ <span style=\"color:#49519E\">What is the standard error of the mean for Systolic blood pressure?<span>"
   ]
  },
  {
   "cell_type": "code",
   "execution_count": 326,
   "id": "3713ad01",
   "metadata": {},
   "outputs": [
    {
     "data": {
      "text/plain": [
       "0.8220958059106919"
      ]
     },
     "execution_count": 326,
     "metadata": {},
     "output_type": "execute_result"
    }
   ],
   "source": [
    "SE = random_sample[\"ap_hi\"].sem()\n",
    "SE"
   ]
  },
  {
   "cell_type": "markdown",
   "id": "hDiz0Xf6KRt7",
   "metadata": {
    "id": "hDiz0Xf6KRt7"
   },
   "source": [
    "### ⭐ <span style=\"color:#49519E\">What is the short way to calculate  descriptive statistics in  for Systolic blood pressure?<span>"
   ]
  },
  {
   "cell_type": "code",
   "execution_count": 133,
   "id": "7265fdb8",
   "metadata": {},
   "outputs": [
    {
     "data": {
      "text/plain": [
       "count    499.000000\n",
       "mean     126.991984\n",
       "std       18.364229\n",
       "min       12.000000\n",
       "25%      120.000000\n",
       "50%      120.000000\n",
       "75%      140.000000\n",
       "max      200.000000\n",
       "Name: ap_hi, dtype: float64"
      ]
     },
     "execution_count": 133,
     "metadata": {},
     "output_type": "execute_result"
    }
   ],
   "source": [
    "random_sample['ap_hi'].describe()"
   ]
  },
  {
   "cell_type": "markdown",
   "id": "70b4dcd2",
   "metadata": {
    "id": "70b4dcd2"
   },
   "source": [
    "<!-- ## <span style=\"color:#49519E\">👉 SUB-TASK: Calculating Confidence Interval using the t Distribution<span> -->\n",
    "    \n",
    "### <p style=\"background-color:#58B8E4; font-family:newtimeroman; color:#FFF9ED; font-size:150%; text-align:center; border-radius:10px 10px;\">👉 SUB-TASK: Calculate the Confidence Interval using the t Distribution:</p>\n",
    "    \n",
    "**<u>🚀 Key Notes about Confidence Intervals:</u>**\n",
    "\n",
    "  - 💡 A point estimate is a single number.\n",
    "\n",
    "  - 💡 A confidence interval, naturally, is an interval.\n",
    "\n",
    "  - 💡 Confidence intervals are the typical way to present estimates as an interval range.\n",
    "\n",
    "  - 💡 The point estimate is located exactly in the middle of the confidence interval.\n",
    "\n",
    "  - 💡 However, confidence intervals provide much more information and are preferred when making inferences.\n",
    "\n",
    "  - 💡 The more data you have, the less variable a sample estimate will be.\n",
    "\n",
    "  - 💡 The lower the level of confidence you can tolerate, the narrower the confidence interval will be.\n",
    "\n",
    "### ⭐ <span style=\"color:#49519E\">Investigate the given task by calculating the confidence interval. (Use 90%, 95% and 99% CIs):<span>"
   ]
  },
  {
   "cell_type": "code",
   "execution_count": null,
   "id": "93c89bad",
   "metadata": {},
   "outputs": [],
   "source": [
    "confidence_level = [0.90, 0.95, 0.99]\n",
    "for conf_level in confidence_level:\n",
    "    t_statistic = stats.t.ppf((1 + conf_level) / 2, df=random_sample- 1)\n",
    "    margin_of_error = t_statistic * SE\n",
    "    lower_bound = sample_mean - margin_of_error\n",
    "    upper_bound = sample_mean + margin_of_error\n",
    "\n",
    "    print('conf_level*100% Confidence Interval:,' lower_bound, upper_bound)\n",
    "    "
   ]
  },
  {
   "cell_type": "markdown",
   "id": "b8ea993c",
   "metadata": {
    "id": "b8ea993c"
   },
   "source": [
    "<!-- ## <span style=\"color:#49519E\">👉 SUB-TASK: Conducting One Sample t Test<span> -->\n",
    "    \n",
    "### <p style=\"background-color:#58B8E4; font-family:newtimeroman; color:#FFF9ED; font-size:150%; text-align:center; border-radius:10px 10px;\">👉 SUB-TASK: Conduct One Sample t Test:</p>\n"
   ]
  },
  {
   "cell_type": "markdown",
   "id": "3b0b1513",
   "metadata": {
    "id": "3b0b1513"
   },
   "source": [
    "### ⭐ <span style=\"color:#49519E\">Investigate the given task by conducting One Sample t Test:<span>\n",
    "\n",
    "**<u>🚀 Key Notes about Hypothesis Testing (Significance Testing):</u>**\n",
    "\n",
    "  - 💡 Assumptions\n",
    "\n",
    "  - 💡 Null and Alternative Hypothesis\n",
    "\n",
    "  - 💡 Test Statistic\n",
    "\n",
    "  - 💡 P-value\n",
    "\n",
    "  - 💡 Conclusion\n",
    "    \n",
    "**🚀 HINT:Use scipy.stats.ttest_1samp**"
   ]
  },
  {
   "cell_type": "markdown",
   "id": "815c7c17",
   "metadata": {
    "id": "815c7c17"
   },
   "source": [
    "### ⭐ <span style=\"color:#49519E\">STEP 1: State the Null (H0) & Alternative (Ha) Hypotheses:<span>"
   ]
  },
  {
   "cell_type": "raw",
   "id": "27bca619",
   "metadata": {
    "vscode": {
     "languageId": "raw"
    }
   },
   "source": [
    "Null Hypothesis (H₀): Ho: The two categorical variables are independent.\n",
    "\n",
    "\n",
    "Alternative Hypothesis (H₁): H1: The two categorical variables are dependent.\n"
   ]
  },
  {
   "cell_type": "markdown",
   "id": "76e2140e",
   "metadata": {},
   "source": [
    "### ⭐ <span style=\"color:#49519E\">STEP 2: Calculate Test Statistics:<span>"
   ]
  },
  {
   "cell_type": "code",
   "execution_count": 348,
   "id": "bc06378f",
   "metadata": {},
   "outputs": [
    {
     "name": "stdout",
     "output_type": "stream",
     "text": [
      "T-statistics: [-4.08665194e+20 -5.81889320e+03  1.05293923e+02 -8.43422747e+01\n",
      "             nan             nan -4.31189926e+03 -5.20814304e+03\n",
      " -1.05717525e+04 -1.35368038e+04 -6.62135443e+03 -5.65231473e+03]\n"
     ]
    },
    {
     "name": "stderr",
     "output_type": "stream",
     "text": [
      "c:\\Users\\User\\anaconda3\\Lib\\site-packages\\scipy\\stats\\_axis_nan_policy.py:591: RuntimeWarning: Precision loss occurred in moment calculation due to catastrophic cancellation. This occurs when the data are nearly identical. Results may be unreliable.\n",
      "  return result_to_tuple(hypotest_fun_out(*samples, **kwds))\n"
     ]
    }
   ],
   "source": [
    "t_stat, p_value = stats.ttest_1samp(random_sample, sample_mean)\n",
    "print('T-statistics:', t_stat)"
   ]
  },
  {
   "cell_type": "markdown",
   "id": "4d04d1dc",
   "metadata": {},
   "source": [
    "### ⭐ <span style=\"color:#49519E\">STEP 3: Calculate P-Value:<span>"
   ]
  },
  {
   "cell_type": "code",
   "execution_count": 349,
   "id": "15755cbe",
   "metadata": {},
   "outputs": [
    {
     "name": "stdout",
     "output_type": "stream",
     "text": [
      "P-Vlaue: [0.00000000e+000 0.00000000e+000 0.00000000e+000 1.99828981e-297\n",
      "             nan             nan 0.00000000e+000 0.00000000e+000\n",
      " 0.00000000e+000 0.00000000e+000 0.00000000e+000 0.00000000e+000]\n"
     ]
    }
   ],
   "source": [
    "print('P-Vlaue:', p_value)"
   ]
  },
  {
   "cell_type": "markdown",
   "id": "71eb2788",
   "metadata": {},
   "source": [
    "### ⭐ <span style=\"color:#49519E\">STEP 4: Make a Decision:<span>"
   ]
  },
  {
   "cell_type": "code",
   "execution_count": null,
   "id": "b361a0c9",
   "metadata": {},
   "outputs": [],
   "source": [
    "\n",
    "\n",
    "if p_value > 0.05:\n",
    "    print('Fail to reject Ho')\n",
    "else:\n",
    "    print('We reject the null hypothesis. The two categorical variables are dependent')"
   ]
  },
  {
   "cell_type": "markdown",
   "id": "e273e0c2",
   "metadata": {
    "id": "e273e0c2"
   },
   "source": [
    "#### <p style=\"background-color:#8CCED1; font-family:newtimeroman; color:#635EA7; font-size:175%; text-align:left; border-radius:10px 10px;\">Task-2. Is There a Significant Difference Between Males and Females in Systolic Blood Pressure?</p>"
   ]
  },
  {
   "cell_type": "markdown",
   "id": "a6872857",
   "metadata": {},
   "source": [
    "### ⭐ <span style=\"color:#49519E\">State the Null (H0) & Alternative (Ha) Hypotheses:<span>"
   ]
  },
  {
   "cell_type": "raw",
   "id": "b1e664d6",
   "metadata": {
    "vscode": {
     "languageId": "raw"
    }
   },
   "source": [
    "Null Hypothesis (H₀): Ho: The two categorical variables are independent.\n",
    "There is no significant difference in the mean systolic blood pressure between males and females\n",
    "\n",
    "Alternative Hypothesis (H₁): H1: The two categorical variables are dependent.\n",
    "There is a significant difference in the mean systolic blood pressure between males and females\n"
   ]
  },
  {
   "cell_type": "markdown",
   "id": "f924f82e",
   "metadata": {
    "id": "f924f82e"
   },
   "source": [
    "### ⭐ <span style=\"color:#49519E\">Show descriptive statistics for 2 groups:<span>"
   ]
  },
  {
   "cell_type": "code",
   "execution_count": 299,
   "id": "5aff63a4",
   "metadata": {},
   "outputs": [
    {
     "name": "stdout",
     "output_type": "stream",
     "text": [
      "Descriptive Statistics for Male:\n",
      " count    45530.000000\n",
      "mean       128.139249\n",
      "std        158.054522\n",
      "min       -140.000000\n",
      "25%        120.000000\n",
      "50%        120.000000\n",
      "75%        140.000000\n",
      "max      16020.000000\n",
      "Name: ap_hi, dtype: float64\n",
      "Descriptive Statistics for Female:\n",
      " count    24470.000000\n",
      "mean       130.078872\n",
      "std        146.186152\n",
      "min       -150.000000\n",
      "25%        120.000000\n",
      "50%        120.000000\n",
      "75%        140.000000\n",
      "max      14020.000000\n",
      "Name: ap_hi, dtype: float64\n"
     ]
    }
   ],
   "source": [
    "#gender = random_sample.groupby('gender')['ap_hi'].describe()\n",
    "#gender\n",
    "male_bp = df[df['gender'] == 1]['ap_hi']\n",
    "female_bp = df[df['gender'] == 2]['ap_hi']\n",
    "male_stats = male_bp.describe()\n",
    "female_stats = female_bp.describe()\n",
    "\n",
    "print('Descriptive Statistics for Male:\\n', male_stats)\n",
    "print('Descriptive Statistics for Female:\\n', female_stats)\n",
    "\n"
   ]
  },
  {
   "cell_type": "markdown",
   "id": "84bd1c6e",
   "metadata": {
    "id": "84bd1c6e"
   },
   "source": [
    "### ⭐ <span style=\"color:#49519E\">Test the assumption of homogeneity of variance. State the Null (H0) & Alternative (Ha) Hypotheses for the assumption of homogeneity of variance:<span>\n",
    "\n",
    "**🚀 Hint: Levene’s Test**"
   ]
  },
  {
   "cell_type": "markdown",
   "id": "8623191d",
   "metadata": {},
   "source": [
    "**STEP 1: The Hypotheses for Levene’s Test are:**"
   ]
  },
  {
   "cell_type": "raw",
   "id": "3d0a8225",
   "metadata": {
    "vscode": {
     "languageId": "raw"
    }
   },
   "source": [
    "H0 = The population variance are equal\n",
    "H1 = There is a difference between the variance in the population"
   ]
  },
  {
   "cell_type": "markdown",
   "id": "671de929",
   "metadata": {},
   "source": [
    "**STEP 2: Calculating Test Statistics for Levene’s Test:**"
   ]
  },
  {
   "cell_type": "code",
   "execution_count": 301,
   "id": "293d5387",
   "metadata": {},
   "outputs": [
    {
     "data": {
      "text/plain": [
       "LeveneResult(statistic=0.19092549884537907, pvalue=0.668811653772541)"
      ]
     },
     "execution_count": 301,
     "metadata": {},
     "output_type": "execute_result"
    }
   ],
   "source": [
    "leveneTest = stats.levene(male_stats, female_stats)\n",
    "leveneTest"
   ]
  },
  {
   "cell_type": "markdown",
   "id": "a691e9e3",
   "metadata": {},
   "source": [
    "**STEP 3: Calculaing P-Value for Levene’s Test:**"
   ]
  },
  {
   "cell_type": "code",
   "execution_count": 303,
   "id": "df2f581b",
   "metadata": {},
   "outputs": [
    {
     "name": "stdout",
     "output_type": "stream",
     "text": [
      "0.668811653772541\n"
     ]
    }
   ],
   "source": [
    "levene_statistic, levene_p_value = stats.levene(male_stats, female_stats)\n",
    "print(levene_p_value)\n",
    "\n"
   ]
  },
  {
   "cell_type": "markdown",
   "id": "49ac469d",
   "metadata": {},
   "source": [
    "**STEP 4: Making a Decision for Levene’s Test:**"
   ]
  },
  {
   "cell_type": "code",
   "execution_count": 304,
   "id": "78e2c589",
   "metadata": {},
   "outputs": [
    {
     "name": "stdout",
     "output_type": "stream",
     "text": [
      "We reject the null hypothesis. The two categorical variables are dependent\n"
     ]
    }
   ],
   "source": [
    "if p_value > 0.05:\n",
    "    print('Fail to reject Ho')\n",
    "else:\n",
    "    print('We reject the null hypothesis. The two categorical variables are dependent')"
   ]
  },
  {
   "cell_type": "markdown",
   "id": "da0b3968",
   "metadata": {},
   "source": [
    "### ⭐ <span style=\"color:#49519E\">Conduct the significance test:<span>\n",
    "    \n",
    "**🚀 Hint: Use scipy.stats.ttest_ind**"
   ]
  },
  {
   "cell_type": "markdown",
   "id": "2490fc0f",
   "metadata": {},
   "source": [
    "**STEP 1: The Hypotheses for t Test are:**"
   ]
  },
  {
   "cell_type": "raw",
   "id": "851ca12f",
   "metadata": {
    "vscode": {
     "languageId": "raw"
    }
   },
   "source": [
    "H0 = There is no significant difference in the mean systolic blood pressure between males and females.\n",
    "H1 = There is a significant difference in the mean systolic blood pressure between males and females."
   ]
  },
  {
   "cell_type": "markdown",
   "id": "255200c2",
   "metadata": {},
   "source": [
    "**STEP 2: Calculating t Test Statistics:**"
   ]
  },
  {
   "cell_type": "code",
   "execution_count": 307,
   "id": "e63c571a",
   "metadata": {},
   "outputs": [
    {
     "name": "stdout",
     "output_type": "stream",
     "text": [
      "TtestResult(statistic=0.43586635540908636, pvalue=0.6695792922723991, df=14.0)\n"
     ]
    }
   ],
   "source": [
    "from scipy import stats\n",
    "indtTest = stats.ttest_ind(male_stats, female_stats, equal_var=True)\n",
    "\n",
    "print(indtTest)"
   ]
  },
  {
   "cell_type": "markdown",
   "id": "de295c9c",
   "metadata": {},
   "source": [
    "**STEP 3: Calculaing P-Value for t Test:**"
   ]
  },
  {
   "cell_type": "code",
   "execution_count": 309,
   "id": "07e8adb7",
   "metadata": {},
   "outputs": [
    {
     "name": "stdout",
     "output_type": "stream",
     "text": [
      "P-Vlaue: 0.6695792922723991\n"
     ]
    }
   ],
   "source": [
    "t_stat, p_value = stats.ttest_ind(male_stats, female_stats)\n",
    "print('P-Vlaue:', p_value)"
   ]
  },
  {
   "cell_type": "markdown",
   "id": "04de28f1",
   "metadata": {},
   "source": [
    "**STEP 4: Making a Decision for t test:**"
   ]
  },
  {
   "cell_type": "code",
   "execution_count": 312,
   "id": "3cc58eb4",
   "metadata": {},
   "outputs": [
    {
     "name": "stdout",
     "output_type": "stream",
     "text": [
      "At 0.05 level of significance, we fail to reject the null hypothesis.\n"
     ]
    }
   ],
   "source": [
    "alpha = 0.05\n",
    "\n",
    "if p_value < alpha:\n",
    "    print('At {} level of significance, we can reject the null hypothesis in favor of alternative hypothesis.'.format(alpha))\n",
    "else:\n",
    "    print('At {} level of significance, we fail to reject the null hypothesis.'.format(alpha))"
   ]
  },
  {
   "cell_type": "markdown",
   "id": "b649ecf9",
   "metadata": {
    "id": "b649ecf9"
   },
   "source": [
    "#### <p style=\"background-color:#8CCED1; font-family:newtimeroman; color:#635EA7; font-size:175%; text-align:left; border-radius:10px 10px;\">Task-3. Is There a Relationship Between Glucose and Systolic Blood Pressure?</p>"
   ]
  },
  {
   "cell_type": "markdown",
   "id": "iQnNlpE2nXym",
   "metadata": {
    "id": "iQnNlpE2nXym"
   },
   "source": [
    "### ⭐ <span style=\"color:#49519E\">Draw a boxplot to see the relationship between ``glucose`` and ``Systolic blood pressure``:<span>"
   ]
  },
  {
   "cell_type": "code",
   "execution_count": 273,
   "id": "47304d90",
   "metadata": {},
   "outputs": [
    {
     "data": {
      "image/png": "[encoded data removed]",
      "text/plain": [
       "<Figure size 1000x600 with 1 Axes>"
      ]
     },
     "metadata": {},
     "output_type": "display_data"
    }
   ],
   "source": [
    "plt.figure(figsize=(10, 6))\n",
    "sns.boxplot(x='gluc', y='ap_hi', data=random_sample)\n",
    "\n",
    "plt.title('Boxplot of Systolic Blood Pressure (ap_hi) by Glucose Levels')\n",
    "plt.xlabel('Glucose Level')\n",
    "plt.ylabel('Systolic Blood Pressure (ap_hi)')\n",
    "\n",
    "plt.show()"
   ]
  },
  {
   "cell_type": "markdown",
   "id": "R5W3NypFniN_",
   "metadata": {
    "id": "R5W3NypFniN_"
   },
   "source": [
    "### ⭐ <span style=\"color:#49519E\">Show the descriptive statistics of 3 groups:<span>"
   ]
  },
  {
   "cell_type": "code",
   "execution_count": 277,
   "id": "8939e3df",
   "metadata": {},
   "outputs": [
    {
     "name": "stdout",
     "output_type": "stream",
     "text": [
      "      count        mean        std    min    25%    50%    75%    max\n",
      "gluc                                                                 \n",
      "1     437.0  126.450801  18.265260   12.0  120.0  120.0  140.0  200.0\n",
      "2      28.0  133.928571  20.965454  110.0  120.0  130.0  140.0  200.0\n",
      "3      34.0  128.235294  16.600582   90.0  120.0  120.0  137.5  170.0\n"
     ]
    }
   ],
   "source": [
    "grouped_stats = random_sample.groupby('gluc')['ap_hi'].describe()\n",
    "print(grouped_stats)"
   ]
  },
  {
   "cell_type": "markdown",
   "id": "4eec5989",
   "metadata": {},
   "source": [
    "### ⭐ <span style=\"color:#49519E\">STEP 1: State the Null (H0) & Alternative (Ha) Hypotheses:<span>"
   ]
  },
  {
   "cell_type": "raw",
   "id": "2246ba23",
   "metadata": {
    "vscode": {
     "languageId": "raw"
    }
   },
   "source": [
    "H0 = The means systolic blood pressure (ap_hi) is the same across all three glucose levels (gluc)\n",
    "H1 = At least one of the groups has a different mean systolic blood pressure"
   ]
  },
  {
   "cell_type": "markdown",
   "id": "6vx5akalnpn3",
   "metadata": {
    "id": "6vx5akalnpn3"
   },
   "source": [
    "### ⭐ <span style=\"color:#49519E\">STEP 2: Conduct the relavant Test Statistics to decide if there is a significant difference between the groups:<span>"
   ]
  },
  {
   "cell_type": "code",
   "execution_count": null,
   "id": "84d34bf7",
   "metadata": {},
   "outputs": [
    {
     "name": "stdout",
     "output_type": "stream",
     "text": [
      "F-statistic: 5.836722951882409\n"
     ]
    }
   ],
   "source": [
    "from scipy.stats import f_oneway\n",
    "group_1 = df[df['gluc'] == 1]['ap_hi']\n",
    "group_2 = df[df['gluc'] == 2]['ap_hi']\n",
    "group_3 = df[df['gluc'] == 3]['ap_hi']\n",
    "\n",
    "f_stat, p_value = f_oneway(group_1, group_2, group_3)\n",
    "\n",
    "\n",
    "print('F-statistic:', f_stat)"
   ]
  },
  {
   "cell_type": "markdown",
   "id": "4dee5a08",
   "metadata": {},
   "source": [
    "### ⭐ <span style=\"color:#49519E\">STEP 3: Calculate P-Value:<span>"
   ]
  },
  {
   "cell_type": "code",
   "execution_count": 289,
   "id": "bbdc0280",
   "metadata": {},
   "outputs": [
    {
     "name": "stdout",
     "output_type": "stream",
     "text": [
      "P-Value: 0.0029198112391350894\n"
     ]
    }
   ],
   "source": [
    "print('P-Value:', p_value)"
   ]
  },
  {
   "cell_type": "markdown",
   "id": "c2f03be0",
   "metadata": {},
   "source": [
    "### ⭐ <span style=\"color:#49519E\">STEP 4: Make a Decision:<span>"
   ]
  },
  {
   "cell_type": "code",
   "execution_count": 293,
   "id": "e09e666d",
   "metadata": {},
   "outputs": [
    {
     "name": "stdout",
     "output_type": "stream",
     "text": [
      "At 0.05 level of significance, we can reject the null hypothesis in favor of alternative hypothesis.\n"
     ]
    }
   ],
   "source": [
    "alpha = 0.05\n",
    "\n",
    "if p_value < alpha:\n",
    "    print('At {} level of significance, we can reject the null hypothesis in favor of alternative hypothesis.'.format(alpha))\n",
    "else:\n",
    "    print('At {} level of significance, we fail to reject the null hypothesis.'.format(alpha))"
   ]
  },
  {
   "cell_type": "markdown",
   "id": "d128793f",
   "metadata": {
    "id": "d128793f"
   },
   "source": [
    "#### <p style=\"background-color:#8CCED1; font-family:newtimeroman; color:#635EA7; font-size:175%; text-align:left; border-radius:10px 10px;\">Task-4.1. Is There a Relationship Between Physical activity vs. Presence or absence of cardiovascular disease?</p>"
   ]
  },
  {
   "cell_type": "markdown",
   "id": "9d0cbaf7",
   "metadata": {
    "id": "9d0cbaf7"
   },
   "source": [
    "### Physical activity vs. Presence or absence of cardiovascular disease"
   ]
  },
  {
   "cell_type": "markdown",
   "id": "QfsEEewCadVd",
   "metadata": {
    "id": "QfsEEewCadVd"
   },
   "source": [
    "### ⭐ <span style=\"color:#49519E\">Create a crosstab using Pandas:<span>"
   ]
  },
  {
   "cell_type": "code",
   "execution_count": 268,
   "id": "ff2e028d",
   "metadata": {},
   "outputs": [
    {
     "name": "stdout",
     "output_type": "stream",
     "text": [
      "cardio    0    1\n",
      "active          \n",
      "0        56   63\n",
      "1       198  183\n"
     ]
    }
   ],
   "source": [
    "crosstab = pd.crosstab(random_sample['active'], random_sample['cardio'])\n",
    "print(crosstab)"
   ]
  },
  {
   "cell_type": "markdown",
   "id": "353ac3bc",
   "metadata": {},
   "source": [
    "### ⭐ <span style=\"color:#49519E\">STEP 1: State the Null (H0) & Alternative (Ha) Hypotheses:<span>"
   ]
  },
  {
   "cell_type": "raw",
   "id": "a5da33d1",
   "metadata": {
    "vscode": {
     "languageId": "raw"
    }
   },
   "source": [
    "H0 =  There is no relationship between physical activity and cardiovascular disease\n",
    "H1 = There is a relationship between  physical activity and cardiovascular disease"
   ]
  },
  {
   "cell_type": "markdown",
   "id": "BHkX6Cdhn-cU",
   "metadata": {
    "id": "BHkX6Cdhn-cU"
   },
   "source": [
    "### ⭐ <span style=\"color:#49519E\">STEP 2: Conduct chi-square test to see if there is a relationship between 2 categorical variables:<span>"
   ]
  },
  {
   "cell_type": "code",
   "execution_count": 270,
   "id": "9d04099a",
   "metadata": {},
   "outputs": [
    {
     "name": "stdout",
     "output_type": "stream",
     "text": [
      "chi-square Statistic: 0.6891331220206558\n",
      "Degree of Freedom: 1\n",
      "Expected Frequencies:\n",
      " [[ 60.452  58.548]\n",
      " [193.548 187.452]]\n",
      "P-Value: 0.40645939462686353\n"
     ]
    }
   ],
   "source": [
    "from scipy.stats import chi2_contingency\n",
    "chi2_stat, p_value, dof, expected = chi2_contingency(crosstab)\n",
    "print('chi-square Statistic:', chi2_stat)\n",
    "print('Degree of Freedom:', dof)\n",
    "print('Expected Frequencies:\\n', expected)\n",
    "print('P-Value:', p_value)"
   ]
  },
  {
   "cell_type": "markdown",
   "id": "e65524a7",
   "metadata": {},
   "source": [
    "### ⭐ <span style=\"color:#49519E\">STEP 3: Calculate P-Value:<span>"
   ]
  },
  {
   "cell_type": "code",
   "execution_count": 271,
   "id": "39eeaf31",
   "metadata": {},
   "outputs": [
    {
     "name": "stdout",
     "output_type": "stream",
     "text": [
      "P-Value: 0.40645939462686353\n"
     ]
    }
   ],
   "source": [
    "print('P-Value:', p_value)"
   ]
  },
  {
   "cell_type": "markdown",
   "id": "223adb2c",
   "metadata": {},
   "source": [
    "### ⭐ <span style=\"color:#49519E\">STEP 4: Make a Decision:<span>"
   ]
  },
  {
   "cell_type": "code",
   "execution_count": 272,
   "id": "0965e53c",
   "metadata": {},
   "outputs": [
    {
     "name": "stdout",
     "output_type": "stream",
     "text": [
      "stat=0.689, p=0.4065\n",
      "Fail to reject Ho\n"
     ]
    }
   ],
   "source": [
    "print('stat=%.3f, p=%.4f' % (chi2_stat, p_value))\n",
    "\n",
    "if p_value > 0.05:\n",
    "    print('Fail to reject Ho')\n",
    "else:\n",
    "    print('We reject the null hypothesis. The two categorical variables are dependent')"
   ]
  },
  {
   "cell_type": "markdown",
   "id": "NWNxm6RU8kRp",
   "metadata": {
    "id": "NWNxm6RU8kRp"
   },
   "source": [
    "#### <p style=\"background-color:#8CCED1; font-family:newtimeroman; color:#635EA7; font-size:175%; text-align:left; border-radius:10px 10px;\">Task-4.2. Conduct chi-square test to decide if there is a relationship between Cholesterol and cardio:</p>"
   ]
  },
  {
   "cell_type": "markdown",
   "id": "2aae892d",
   "metadata": {},
   "source": [
    "### ⭐ <span style=\"color:#49519E\">Create a crosstab using Pandas:<span>"
   ]
  },
  {
   "cell_type": "code",
   "execution_count": 256,
   "id": "cb0dc560",
   "metadata": {},
   "outputs": [
    {
     "name": "stdout",
     "output_type": "stream",
     "text": [
      "cardio         0    1\n",
      "cholesterol          \n",
      "1            212  169\n",
      "2             32   37\n",
      "3             10   40\n"
     ]
    }
   ],
   "source": [
    "crosstab = pd.crosstab(random_sample['cholesterol'], random_sample['cardio'])\n",
    "print(crosstab)"
   ]
  },
  {
   "cell_type": "markdown",
   "id": "b5a86bfd",
   "metadata": {},
   "source": [
    "### ⭐ <span style=\"color:#49519E\">STEP 1: State the Null (H0) & Alternative (Ha) Hypotheses:<span>"
   ]
  },
  {
   "cell_type": "raw",
   "id": "b4c4b33e",
   "metadata": {
    "vscode": {
     "languageId": "raw"
    }
   },
   "source": [
    "H0 =  There is no relationship between cholesterol and cardio\n",
    "H1 = There is a relationship between cholesterol and cardio"
   ]
  },
  {
   "cell_type": "markdown",
   "id": "7ef4d447",
   "metadata": {},
   "source": [
    "### ⭐ <span style=\"color:#49519E\">STEP 3: Calculate P-Value:<span>"
   ]
  },
  {
   "cell_type": "code",
   "execution_count": 266,
   "id": "f87b5b60",
   "metadata": {},
   "outputs": [
    {
     "name": "stdout",
     "output_type": "stream",
     "text": [
      "chi-square Statistic: 23.09324908504889\n",
      "Degree of Freedom: 2\n",
      "Expected Frequencies:\n",
      " [[193.548 187.452]\n",
      " [ 35.052  33.948]\n",
      " [ 25.4    24.6  ]]\n",
      "P-Value: 9.668624114667092e-06\n"
     ]
    }
   ],
   "source": [
    "from scipy.stats import chi2_contingency\n",
    "chi2_stat, p_value, dof, expected = chi2_contingency(crosstab)\n",
    "print('chi-square Statistic:', chi2_stat)\n",
    "print('Degree of Freedom:', dof)\n",
    "print('Expected Frequencies:\\n', expected)\n",
    "print('P-Value:', p_value)"
   ]
  },
  {
   "cell_type": "markdown",
   "id": "b0a85a72",
   "metadata": {},
   "source": [
    "### ⭐ <span style=\"color:#49519E\">STEP 3: Calculate P-Value:<span>"
   ]
  },
  {
   "cell_type": "code",
   "execution_count": 265,
   "id": "78f9ec94",
   "metadata": {},
   "outputs": [
    {
     "name": "stdout",
     "output_type": "stream",
     "text": [
      "P-Value: 9.668624114667092e-06\n"
     ]
    }
   ],
   "source": [
    "print('P-Value:', p_value)"
   ]
  },
  {
   "cell_type": "markdown",
   "id": "d8f5b07e",
   "metadata": {},
   "source": [
    "### ⭐ <span style=\"color:#49519E\">STEP 4: Make a Decision:<span>"
   ]
  },
  {
   "cell_type": "code",
   "execution_count": 317,
   "id": "0b793751",
   "metadata": {},
   "outputs": [
    {
     "name": "stdout",
     "output_type": "stream",
     "text": [
      "stat=0.689, p=0.6696\n",
      "Fail to reject Ho\n"
     ]
    }
   ],
   "source": [
    "print('stat=%.3f, p=%.4f' % (chi2_stat, p_value))\n",
    "\n",
    "if p_value > 0.05:\n",
    "    print('Fail to reject Ho')\n",
    "else:\n",
    "    print('We reject the null hypothesis. The two categorical variables are dependent')"
   ]
  },
  {
   "cell_type": "markdown",
   "id": "a1cf636f",
   "metadata": {},
   "source": [
    "## <p style=\"background-color:#8CCED1; font-family:newtimeroman; color:#49519E; font-size:150%; text-align:center; border-radius:10px 10px;\">END of the CASE STUDY (Cardiovascular Disease)</p>\n",
    "\n",
    "# Now. it's time to relax!\n",
    "\n",
    "<p style=\"text-align: center;\"> <img src=\"https://i.ibb.co/nQvgZ4W/relaxing-with-book.png\" width=\"800\" height=\"200\"\n",
    "\n",
    "[Image Credit](https://philanthropynw.org/news/ignite-your-passion-positive-change-summer-reading-list)\n",
    "\n",
    "<p style=\"text-align: center;\"><img src=\"https://i.ibb.co/99DQ3TY/DS-Courses.png\" class=\"img-fluid\" \n",
    "alt=\"CLRSWY_Courses\"></p>"
   ]
  },
  {
   "cell_type": "markdown",
   "id": "8850dc7d",
   "metadata": {
    "deletable": false,
    "editable": false
   },
   "source": [
    "<a href=\"https://ondiande.com/contact/\"><img align=\"center\" src=\"https://i.ibb.co/B43qn24/officially-licensed-logo.png\" alt=\"ONDIA Contact\" width=\"110\" height=\"200\" title=\"This notebook is licensed by ONDIA. Please contact the authorized persons about the conditions under which you can use or share.\"></a>"
   ]
  }
 ],
 "metadata": {
  "colab": {
   "provenance": []
  },
  "kernelspec": {
   "display_name": "base",
   "language": "python",
   "name": "python3"
  },
  "language_info": {
   "codemirror_mode": {
    "name": "ipython",
    "version": 3
   },
   "file_extension": ".py",
   "mimetype": "text/x-python",
   "name": "python",
   "nbconvert_exporter": "python",
   "pygments_lexer": "ipython3",
   "version": "3.12.4"
  },
  "toc": {
   "base_numbering": "",
   "nav_menu": {},
   "number_sections": false,
   "sideBar": true,
   "skip_h1_title": false,
   "title_cell": "Table of Contents",
   "title_sidebar": "Contents",
   "toc_cell": false,
   "toc_position": {
    "height": "calc(100% - 180px)",
    "left": "10px",
    "top": "150px",
    "width": "307.2px"
   },
   "toc_section_display": true,
   "toc_window_display": true
  },
  "varInspector": {
   "cols": {
    "lenName": 16,
    "lenType": 16,
    "lenVar": 40
   },
   "kernels_config": {
    "python": {
     "delete_cmd_postfix": "",
     "delete_cmd_prefix": "del ",
     "library": "var_list.py",
     "varRefreshCmd": "print(var_dic_list())"
    },
    "r": {
     "delete_cmd_postfix": ") ",
     "delete_cmd_prefix": "rm(",
     "library": "var_list.r",
     "varRefreshCmd": "cat(var_dic_list()) "
    }
   },
   "types_to_exclude": [
    "module",
    "function",
    "builtin_function_or_method",
    "instance",
    "_Feature"
   ],
   "window_display": false
  }
 },
 "nbformat": 4,
 "nbformat_minor": 5
}
